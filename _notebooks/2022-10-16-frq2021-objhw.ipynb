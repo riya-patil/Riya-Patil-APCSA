{
 "cells": [
  {
   "cell_type": "markdown",
   "metadata": {},
   "source": [
    "# Unit 2 HW - 2021 FRQ\n",
    "Here are my answers.\n",
    "\n",
    "- toc: true\n",
    "- comments: true\n",
    "- badges: true\n",
    "- categories: [fastpages, lessonhw]"
   ]
  },
  {
   "cell_type": "markdown",
   "metadata": {},
   "source": [
    " No presentation\n",
    " \n",
    "* personal quiz 7/7 on using java objects\n",
    "* 5-7.5% of the test\n",
    " \n",
    "Declaration − A variable declaration with a variable name with an object type.\n",
    " \n",
    "Instantiation − The 'new' keyword is used to create the object.\n",
    " \n",
    "Initialization − The 'new' keyword is followed by a call to a constructor. This call initializes the new object.\n",
    " \n",
    "MATH CLASS - abs creates an absolute value around the number, and random returns an int between 0 and 1\n",
    "\n",
    "* part of java package, uses static methods that belong to the class and not object\n",
    "* math random returns random int or double in the given range"
   ]
  },
  {
   "cell_type": "code",
   "execution_count": null,
   "metadata": {},
   "outputs": [],
   "source": [
    "import java.lang;\n",
    "public class Math{\n",
    "    public static void main(String[] args){\n",
    "        System.out.println(Math.abs(-20));\n",
    "        System.out.println(Math.abs(20)); //math absolute makes it all positive\n",
    "\n",
    "        System.out.println(Math.random()); //math random returns random in range\n",
    "    }\n",
    "}\n",
    "Math.main(null);"
   ]
  },
  {
   "cell_type": "markdown",
   "metadata": {},
   "source": [
    "### Concatentation\n",
    "* adding or joining data types together\n",
    "* String concatenation is a type where strings can added to each other to form full sentences\n",
    "* primitive concatenation\n",
    "\n",
    "### Standard Methods\n",
    "* the toString() method used to get a String object representing a data type or element converted to a String\n",
    "* equals() is used to compare 2 strings and returns if the content of the strings are equal\n",
    "* hashCode() method computes the hash values of given input objects\n",
    "\n",
    "### Wrapper Class\n",
    "* Each primitive has a corresponding wrapper class: boolean, byte, short, char, int, long, float, double\n",
    "* used for methods that support objects like conversion\n",
    "* converts from other data types to object"
   ]
  },
  {
   "cell_type": "markdown",
   "metadata": {},
   "source": [
    "## 1a\n",
    "Write the WordMatch method scoreGuess. To determine the score to be returned,\n",
    "scoreGuess finds the number of times that guess occurs as a substring of secret and then\n",
    "multiplies that number by the square of the length of guess. Occurrences of guess may overlap\n",
    "within secret.\n",
    "Assume that the length of guess is less than or equal to the length of secret and that guess is\n",
    "not an empty string.\n",
    "The following examples show declarations of a WordMatch object. The tables show the outcomes of\n",
    "some possible calls to the scoreGuess method.\n",
    "WordMatch game = new WordMatch(\"mississippi\"); "
   ]
  },
  {
   "cell_type": "code",
   "execution_count": null,
   "metadata": {},
   "outputs": [],
   "source": [
    "public class WordMatch\n",
    "{\n",
    "\n",
    "public int scoreGuess(String guess) //answer to 1a\n",
    "{   \n",
    "    int count = 0; //starts off the count of substring occurrences at 0\n",
    "    \n",
    "    for (int i = 0; i <= secret.length(); i++) { //assuming that length of guess is less than or equal to secret.length\n",
    "        if (secret.substring(i, guess.length().equals(guess)); //checks if guess is within substring of secret\n",
    "        count++;\n",
    "    } //then increases the count\n",
    "}\n",
    "\n",
    "return count * guess.length() * guess.length(); //numbers of times guess is found within substring and multiplies it by square of guess \n",
    "}\n"
   ]
  },
  {
   "cell_type": "markdown",
   "metadata": {},
   "source": [
    "## 1b\n",
    "Write the WordMatch method findBetterGuess, which returns the better guess of its two\n",
    "String parameters, guess1 and guess2. If the scoreGuess method returns different\n",
    "values for guess1 and guess2, then the guess with the higher score is returned. If the\n",
    "scoreGuess method returns the same value for guess1 and guess2, then the\n",
    "alphabetically greater guess is returned.\n",
    "The following example shows a declaration of a WordMatch object and the outcomes of some\n",
    "possible calls to the scoreGuess and findBetterGuess methods."
   ]
  },
  {
   "cell_type": "code",
   "execution_count": null,
   "metadata": {},
   "outputs": [],
   "source": [
    "public class WordMatch\n",
    "{\n",
    "public String findBetterGuess(String guess1, String guess2)\n",
    "{\n",
    "    if (scoreGuess(guess1)>scoreGuess(guess2)) //if guess for guess1 is greater then guess1 is returned\n",
    "    {\n",
    "        return guess1;\n",
    "    }\n",
    "    if (scoreGuess(guess2)>scoreGuess(guess1)) //otherwise guess2 is returned\n",
    "    {\n",
    "        return guess2; \n",
    "    }\n",
    "}"
   ]
  },
  {
   "cell_type": "markdown",
   "metadata": {},
   "source": [
    "I couldn't figure out how to get it to return the greater alphanumeric guess if the values for both were the same, so I searched it up and found out that you need to use an if(guess1.comparedTo(guess2)>0), then you return guess1, otherwise you return guess 2."
   ]
  }
 ],
 "metadata": {
  "kernelspec": {
   "display_name": "Java",
   "language": "java",
   "name": "java"
  },
  "language_info": {
   "codemirror_mode": "java",
   "file_extension": ".jshell",
   "mimetype": "text/x-java-source",
   "name": "java",
   "pygments_lexer": "java",
   "version": "17.0.5+8-Ubuntu-2ubuntu122.04"
  },
  "orig_nbformat": 4
 },
 "nbformat": 4,
 "nbformat_minor": 2
}
