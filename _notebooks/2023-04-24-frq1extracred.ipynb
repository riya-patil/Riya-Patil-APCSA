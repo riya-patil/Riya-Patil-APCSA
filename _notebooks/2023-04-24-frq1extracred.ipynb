{
 "cells": [
  {
   "attachments": {},
   "cell_type": "markdown",
   "metadata": {},
   "source": [
    "# FRQ 1 - Methods and Control Structures\n",
    "\n",
    "- toc: true\n",
    "- categories: [seedec]"
   ]
  },
  {
   "attachments": {},
   "cell_type": "markdown",
   "metadata": {},
   "source": [
    "Frog Simulation"
   ]
  },
  {
   "cell_type": "code",
   "execution_count": 1,
   "metadata": {
    "vscode": {
     "languageId": "java"
    }
   },
   "outputs": [],
   "source": [
    "public class FrogSimulation\n",
    "{\n",
    "    /** Distance, in inches, from the starting position to the goal. */ \n",
    "    private int goalDistance;\n",
    "    /** Maximum number of hops allowed to reach the goal. */ \n",
    "    private int maxHops;\n",
    "    \n",
    "    /** Constructs a FrogSimulation where dist is the distance, in inches, from the starting\n",
    "    * position to the goal, and numHops is the maximum number of hops allowed to reach the goal.\n",
    "    * Precondition: dist > 0; numHops > 0 */\n",
    "    public FrogSimulation(int dist, int numHops)\n",
    "    {\n",
    "       goalDistance = dist;\n",
    "       maxHops = numHops;\n",
    "    }\n",
    "    \n",
    "    /** Returns an integer representing the distance, in inches, to be moved when the frog hops. \n",
    "    Implemented here to test\n",
    "    */\n",
    "    private int hopDistance()\n",
    "    {\n",
    "        //Max value of 20, minimum value of - 10;\n",
    "        int randHop = (int)(Math.random() * 30) - 10; \n",
    "        return randHop;\n",
    "    }\n",
    "\n",
    "    /** Simulates a frog attempting to reach the goal \n",
    "    * Returns true if the frog successfully reached or passed the goal during the simulation; * false otherwise.\n",
    "    */\n",
    "    public boolean simulate()\n",
    "    {   \n",
    "        int current = 0; \n",
    "        for(int i=0; i<maxHops; i++){\n",
    "           current += hopDistance(); \n",
    "           //sets the current distance to the added value of hopDistance through each increment\n",
    "           if(current < 0){\n",
    "               return false;\n",
    "               //if the position becomes negative, immediately ends\n",
    "           }else if(current >= goalDistance){\n",
    "               return true;\n",
    "           }\n",
    "        }\n",
    "        return false;\n",
    "        //if never reaches current after max hops, false\n",
    "    }\n",
    "    \n",
    "    /** Runs num simulations and returns the proportion of simulations in which the frog\n",
    "    * successfully reached or passed the goal.\n",
    "    * Precondition: num > 0 */\n",
    "    public double runSimulations(int num)\n",
    "    {\n",
    "        int success = 0;\n",
    "        //sets initial success to 0\n",
    "        for(int runs = 0; runs < num; runs++){\n",
    "            if(simulate() == true){\n",
    "                //runs through the input num of runs, if simulate is true then increase success\n",
    "                success++;\n",
    "            }\n",
    "        }\n",
    "        return (double) success/num;\n",
    "        //cast success as a double\n",
    "    }\n",
    "}"
   ]
  },
  {
   "cell_type": "code",
   "execution_count": 11,
   "metadata": {
    "vscode": {
     "languageId": "java"
    }
   },
   "outputs": [
    {
     "name": "stdout",
     "output_type": "stream",
     "text": [
      "Part A:\n",
      "Running simulation:\n",
      "true\n",
      "false\n",
      "true\n",
      "---------------------\n",
      "Testing Part B:\n",
      "Running simulations ratio:\n",
      "0.4025\n",
      "0.0\n",
      "0.6125\n"
     ]
    }
   ],
   "source": [
    "public class FrogSimulationTester\n",
    "{\n",
    "    public static void main(String[] args)\n",
    "    {\n",
    "        FrogSimulation phrog = new FrogSimulation(24,5);\n",
    "        FrogSimulation phrog2 = new FrogSimulation(100,5);\n",
    "        FrogSimulation phrog3 = new FrogSimulation(5,5);\n",
    "\n",
    "        System.out.println(\"Part A:\");\n",
    "        System.out.println(\"Running simulation:\");\n",
    "\n",
    "        System.out.println(phrog.simulate());\n",
    "        System.out.println(phrog2.simulate());\n",
    "        System.out.println(phrog3.simulate());\n",
    "\n",
    "        System.out.println(\"---------------------\");\n",
    "\n",
    "        System.out.println(\"Testing Part B:\");\n",
    "        System.out.println(\"Running simulations ratio:\");\n",
    "\n",
    "        System.out.println(phrog.runSimulations(400));\n",
    "        \n",
    "        System.out.println(phrog2.runSimulations(400));\n",
    "        \n",
    "        System.out.println(phrog3.runSimulations(400));\n",
    "        \n",
    "    }\n",
    "}\n",
    "FrogSimulationTester.main(null);"
   ]
  }
 ],
 "metadata": {
  "kernelspec": {
   "display_name": "Java",
   "language": "java",
   "name": "java"
  },
  "language_info": {
   "codemirror_mode": "java",
   "file_extension": ".jshell",
   "mimetype": "text/x-java-source",
   "name": "Java",
   "pygments_lexer": "java",
   "version": "17.0.5+8-Ubuntu-2ubuntu122.04"
  },
  "orig_nbformat": 4
 },
 "nbformat": 4,
 "nbformat_minor": 2
}
