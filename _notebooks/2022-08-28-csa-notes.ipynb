{
 "cells": [
  {
   "cell_type": "markdown",
   "metadata": {},
   "source": [
    "# Lesson Notes: Units 1-10\n",
    "\n",
    "Only completed notes up till unit 6 because of delayed presentations\n",
    "\n",
    "- toc: true\n",
    "- categories: [lessonhw, fastpages, learning]\n",
    "- comments: true"
   ]
  },
  {
   "cell_type": "markdown",
   "metadata": {},
   "source": [
    "# Unit 1: Primitive Types\n",
    "\n",
    "No presentation\n",
    "\n",
    "* We should use java because its widely used in industries\n",
    "* To print something, use System.out.print(); and inside the parenthesis put text in quotes (String)\n",
    "* To print with a new line, use System.out.println();\n",
    "* To comment your code, use // for single line comments and /**/ for multiple lines \n",
    "\n",
    "Hacks below:"
   ]
  },
  {
   "cell_type": "code",
   "execution_count": 3,
   "metadata": {
    "vscode": {
     "languageId": "java"
    }
   },
   "outputs": [
    {
     "name": "stdout",
     "output_type": "stream",
     "text": [
      "Riya\n",
      "Team Crimebusters\n"
     ]
    }
   ],
   "source": [
    "//Hack #1\n",
    "public class Printing {\n",
    "    public static void main(String[] args) {\n",
    "\n",
    "        System.out.println(\"Riya\"); //printing my name\n",
    "        System.out.println(\"Team Crimebusters\"); //printing my team name\n",
    "    }\n",
    "}\n",
    "\n",
    "Printing.main(null);"
   ]
  },
  {
   "cell_type": "code",
   "execution_count": 6,
   "metadata": {
    "vscode": {
     "languageId": "java"
    }
   },
   "outputs": [
    {
     "name": "stdout",
     "output_type": "stream",
     "text": [
      "Riya is cool: true\n"
     ]
    }
   ],
   "source": [
    "\n",
    "public class Biodata {\n",
    "\n",
    "    public static void main(String[] args) {\n",
    "        \n",
    "        final boolean cool = true;\n",
    "        String name = \"Riya is cool: \";\n",
    "\n",
    "        System.out.println(name + cool);\n",
    "\n",
    "    }\n",
    "}\n",
    "\n",
    "Biodata.main(null);"
   ]
  },
  {
   "cell_type": "markdown",
   "metadata": {},
   "source": [
    "# Unit 2: Using Objects\n",
    "\n"
   ]
  },
  {
   "cell_type": "markdown",
   "metadata": {},
   "source": [
    "# Unit 3: Boolean Expressions and If Statements"
   ]
  },
  {
   "cell_type": "markdown",
   "metadata": {},
   "source": [
    "# Unit 4: Iteration"
   ]
  },
  {
   "cell_type": "markdown",
   "metadata": {},
   "source": [
    "# Unit 5: Writing Classes"
   ]
  },
  {
   "cell_type": "markdown",
   "metadata": {},
   "source": [
    "# Unit 6: Array"
   ]
  },
  {
   "cell_type": "markdown",
   "metadata": {},
   "source": [
    "# Unit 7: ArrayList"
   ]
  },
  {
   "cell_type": "markdown",
   "metadata": {},
   "source": [
    "# Unit 8: 2D Array"
   ]
  },
  {
   "cell_type": "markdown",
   "metadata": {},
   "source": [
    "# Unit 9: Inheritance"
   ]
  },
  {
   "cell_type": "markdown",
   "metadata": {},
   "source": [
    "# Unit 10: Recursion"
   ]
  }
 ],
 "metadata": {
  "kernelspec": {
   "display_name": "Java",
   "language": "java",
   "name": "java"
  },
  "language_info": {
   "codemirror_mode": "java",
   "file_extension": ".jshell",
   "mimetype": "text/x-java-source",
   "name": "Java",
   "pygments_lexer": "java",
   "version": "11.0.16+8-post-Ubuntu-0ubuntu122.04"
  },
  "orig_nbformat": 4
 },
 "nbformat": 4,
 "nbformat_minor": 2
}
