{
 "cells": [
  {
   "attachments": {},
   "cell_type": "markdown",
   "metadata": {},
   "source": [
    "# FRQ 4 - 2D Arrays\n",
    "- toc: true\n",
    "- categories: [seedec]"
   ]
  },
  {
   "attachments": {},
   "cell_type": "markdown",
   "metadata": {},
   "source": [
    "Data"
   ]
  },
  {
   "cell_type": "code",
   "execution_count": 6,
   "metadata": {
    "vscode": {
     "languageId": "java"
    }
   },
   "outputs": [
    {
     "name": "stdout",
     "output_type": "stream",
     "text": [
      "Grid 1:\n",
      "40 30 160 670 \n",
      "670 290 180 430 \n",
      "780 890 430 40 \n",
      "720 440 690 550 \n",
      "\n",
      "Grid 2:\n",
      "420 470 410 960 \n",
      "130 290 480 870 \n",
      "50 760 680 90 \n",
      "210 360 640 480 \n",
      "\n",
      "----------------\n",
      "Number of columns in increasing order for grid 1: 1\n",
      "Number of columns in increasing order for grid 2: 0\n"
     ]
    }
   ],
   "source": [
    "public class Data {\n",
    "    public static final int MAX = 1000;\n",
    "    private int[][] grid;\n",
    "\n",
    "    public Data() {\n",
    "        grid = new int[4][4];\n",
    "    }\n",
    "\n",
    "    /**\n",
    "     * Fills all elements of grid with randomly generated values, as described in part (a)\n",
    "     * Precondition: grid is not null. grid has at least one element.\n",
    "     */\n",
    "    public void repopulate() {\n",
    "        for (int i = 0; i < grid.length; i++) {\n",
    "            //iterates through rows\n",
    "            for (int j = 0; j < grid[0].length; j++) {\n",
    "                //then columns\n",
    "                int rand = (int) (Math.random() * MAX);\n",
    "                //returns random value within range of MAX\n",
    "                while (rand % 10 != 0 || rand % 100 == 0) {\n",
    "                    rand = (int) (Math.random() * MAX);\n",
    "                    //if the conditions are not met, keep generating random\n",
    "                }\n",
    "                grid[i][j] = rand;\n",
    "                //place int in grid spot\n",
    "            }\n",
    "        }\n",
    "    }\n",
    "\n",
    "    /**\n",
    "     * Returns the number of columns in grid that are in increasing order, as described in part (b)\n",
    "     * Precondition: grid is not null. grid has at least one element.\n",
    "     */\n",
    "    public int countIncreasingCols() {\n",
    "        int columns = 0; //starts with a column count of 0\n",
    "        for (int j = 0; j < grid[0].length; j++) {\n",
    "            boolean increasing = true; //og starts with true\n",
    "            for (int i = 1; i < grid.length; i++) {\n",
    "                if (grid[i][j] < grid[i - 1][j]) {\n",
    "                    increasing = false;\n",
    "                    break;\n",
    "                    //if when checking columns and rows the 2nd one is smaller, false\n",
    "                }\n",
    "            }\n",
    "            if (increasing) {\n",
    "                columns++;\n",
    "                //increase the column count for each one true\n",
    "            }\n",
    "        }\n",
    "        return columns;\n",
    "    }\n",
    "\n",
    "    // Tester method\n",
    "    public static void main(String[] args) {\n",
    "\n",
    "\n",
    "        Data data = new Data();\n",
    "        Data data2 = new Data();\n",
    "        data.repopulate();\n",
    "        data2.repopulate();\n",
    "\n",
    "\n",
    "        // Print the generated grids\n",
    "        System.out.println(\"Grid 1:\");\n",
    "        for (int i = 0; i < data.grid.length; i++) {\n",
    "            for (int j = 0; j < data.grid[0].length; j++) {\n",
    "                System.out.print(data.grid[i][j] + \" \");\n",
    "            }\n",
    "            System.out.println();\n",
    "        }\n",
    "        \n",
    "        System.out.println();\n",
    "\n",
    "        System.out.println(\"Grid 2:\");\n",
    "        for (int i = 0; i < data2.grid.length; i++) {\n",
    "            for (int j = 0; j < data2.grid[0].length; j++) {\n",
    "                System.out.print(data2.grid[i][j] + \" \");\n",
    "            }\n",
    "            System.out.println();\n",
    "        }\n",
    "        // Count the number of columns that are in increasing order\n",
    "        System.out.println();\n",
    "        System.out.println(\"----------------\");\n",
    "        System.out.println(\"Number of columns in increasing order for grid 1: \" + data.countIncreasingCols());\n",
    "        System.out.println(\"Number of columns in increasing order for grid 2: \" + data2.countIncreasingCols());\n",
    "    }\n",
    "}\n",
    "Data.main(null);"
   ]
  }
 ],
 "metadata": {
  "kernelspec": {
   "display_name": "Java",
   "language": "java",
   "name": "java"
  },
  "language_info": {
   "codemirror_mode": "java",
   "file_extension": ".jshell",
   "mimetype": "text/x-java-source",
   "name": "Java",
   "pygments_lexer": "java",
   "version": "17.0.5+8-Ubuntu-2ubuntu122.04"
  },
  "orig_nbformat": 4
 },
 "nbformat": 4,
 "nbformat_minor": 2
}
