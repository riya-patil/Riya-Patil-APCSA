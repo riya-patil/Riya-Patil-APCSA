{
 "cells": [
  {
   "cell_type": "markdown",
   "metadata": {},
   "source": [
    "# Unit 3 Notes\n",
    "- toc: true\n",
    "- categories: [fastpages, lessonhw]\n",
    "- comments: true"
   ]
  },
  {
   "cell_type": "markdown",
   "metadata": {},
   "source": [
    "### Boolean Expressions & If Statements\n",
    "* Boolean Expressions: represent logic of true or false\n",
    "* Truth Tables: A truth table has one column for each variable, one row for each possible combination of variable values, and a column that specifies the value of the function for that combination\n",
    "* breakdown of possible values that can be obtained using logic\n",
    "\n",
    "### De Morgans\n",
    "* This law says that \"the complement of two union sets is the intersection of their complements\". It means that saying \"not and \" is the same as saying those statements separately"
   ]
  },
  {
   "cell_type": "code",
   "execution_count": 2,
   "metadata": {
    "vscode": {
     "languageId": "java"
    }
   },
   "outputs": [
    {
     "name": "stdout",
     "output_type": "stream",
     "text": [
      "I like chocolate and vanilla\n"
     ]
    }
   ],
   "source": [
    "boolean vanilla = true;\n",
    "boolean chocolate = true;\n",
    "\n",
    "if (!(chocolate && vanilla)){\n",
    "    System.out.println(\"I do not like chocolate or vanilla\");\n",
    "}\n",
    "else{\n",
    "    System.out.println(\"I like chocolate and vanilla\"); //de morgans of above statement\n",
    "}"
   ]
  },
  {
   "cell_type": "code",
   "execution_count": 3,
   "metadata": {
    "vscode": {
     "languageId": "java"
    }
   },
   "outputs": [
    {
     "name": "stdout",
     "output_type": "stream",
     "text": [
      "I like chocolate and vanilla\n"
     ]
    }
   ],
   "source": [
    "if (!chocolate || !vanilla){\n",
    "    System.out.println(\"I do not like chocolate or vanilla\");\n",
    "}\n",
    "else{\n",
    "    System.out.println(\"I like chocolate and vanilla\");\n",
    "} //same output"
   ]
  },
  {
   "cell_type": "markdown",
   "metadata": {},
   "source": [
    "### Comparing\n",
    "* Comparing operators are: ==, !=, <, >, <=, >=\n",
    "* Can be used to compare strings, numbers, and objects\n",
    "* .equals operator can also be used"
   ]
  },
  {
   "cell_type": "code",
   "execution_count": 6,
   "metadata": {
    "vscode": {
     "languageId": "java"
    }
   },
   "outputs": [
    {
     "name": "stdout",
     "output_type": "stream",
     "text": [
      "Comparing Riya and Ridhi and riya and ridhi : false\n",
      "Comparing Riya and Riya : true\n",
      "Comparing Riya and riya : false\n",
      "Comparing Riya and Ridhi and Riya : false\n"
     ]
    }
   ],
   "source": [
    "public class Compare { //program to compare strings\n",
    "    public static void main(String args[])\n",
    "    {\n",
    "        String string1 = new String(\"Riya and Ridhi\");\n",
    "        String string2 = new String(\"riya and ridhi\");\n",
    "        String string3 = new String(\"Riya\");\n",
    "        String string4 = new String(\"Riya\");\n",
    "        String string5 = new String(\"riya\");\n",
    "  \n",
    "        // Comparing for String 1 != String 2\n",
    "        System.out.println(\"Comparing \" + string1 + \" and \" + string2\n",
    "                           + \" : \" + string1.equals(string2)); //use of .equals\n",
    "  \n",
    "        // Comparing for String 3 = String 4\n",
    "        System.out.println(\"Comparing \" + string3 + \" and \" + string4\n",
    "                           + \" : \" + string3.equals(string4));\n",
    "  \n",
    "        // Comparing for String 4 != String 5\n",
    "        System.out.println(\"Comparing \" + string4 + \" and \" + string5\n",
    "                           + \" : \" + string4.equals(string5));\n",
    "  \n",
    "        // Comparing for String 1 != String 4\n",
    "        System.out.println(\"Comparing \" + string1 + \" and \" + string4\n",
    "                           + \" : \" + string1.equals(string4));\n",
    "    }\n",
    "}\n",
    "Compare.main(null);"
   ]
  }
 ],
 "metadata": {
  "kernelspec": {
   "display_name": "Java",
   "language": "java",
   "name": "java"
  },
  "language_info": {
   "codemirror_mode": "java",
   "file_extension": ".jshell",
   "mimetype": "text/x-java-source",
   "name": "Java",
   "pygments_lexer": "java",
   "version": "17.0.5+8-Ubuntu-2ubuntu122.04"
  },
  "orig_nbformat": 4
 },
 "nbformat": 4,
 "nbformat_minor": 2
}
