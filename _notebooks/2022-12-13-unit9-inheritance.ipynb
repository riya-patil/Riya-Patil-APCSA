{
 "cells": [
  {
   "attachments": {},
   "cell_type": "markdown",
   "metadata": {},
   "source": [
    "# Unit 9 - Inheritance\n",
    "- toc: true\n",
    "- comments: true\n",
    "- categories: [fastpages, lessonhw]"
   ]
  },
  {
   "attachments": {},
   "cell_type": "markdown",
   "metadata": {},
   "source": [
    "### Subclasses\n",
    "* Method to create hierarchy between classes by inheriting from other classes\n",
    "* parent and child classes\n",
    "* extends extend a class to show its inherited and extends functionality\n",
    "* Subclass inherits all methods and fields from superclass, and constructor can be carried out from subclass\n",
    "* super refers to superclass or parent objects"
   ]
  },
  {
   "cell_type": "code",
   "execution_count": null,
   "metadata": {
    "vscode": {
     "languageId": "java"
    }
   },
   "outputs": [],
   "source": [
    "// Hacks 1\n",
    "private class Plane {\n",
    "    private String model = \"Boeing 737\";\n",
    "    private int age = 3; //two attributes\n",
    "\n",
    "    public void getAge(String model, int age) {\n",
    "        println(\"Age: \" + age);\n",
    "    }\n",
    "}\n",
    "\n",
    "private class Jet extends Plane {\n",
    "    private String color = \"blue\";\n",
    "    \n",
    "}"
   ]
  },
  {
   "attachments": {},
   "cell_type": "markdown",
   "metadata": {},
   "source": [
    "### Overload & Override\n",
    "* Overload happens when there are two methods with same name but different arguments or parameters\n",
    "* Method override happens when child class has the same method that is present in a parent class, overwrites base class method"
   ]
  },
  {
   "cell_type": "code",
   "execution_count": null,
   "metadata": {
    "vscode": {
     "languageId": "java"
    }
   },
   "outputs": [],
   "source": [
    "//hack 2\n",
    "public class Plane {\n",
    "    private String model = \"Boeing 737\";\n",
    "    private int age = 3;\n",
    "\n",
    "    public void engineBurr() {\n",
    "        System.out.println(\"brrrrrr\");\n",
    "    }\n",
    "}\n",
    "\n",
    "private class Jettison extends Plane {\n",
    "    public Jettison(String model, int age, String color) {\n",
    "        super(model, age); \n",
    "        this.color = color; \n",
    "\n",
    "        @Override\n",
    "        public void engineBurr() {\n",
    "        System.out.println(\"BRRRRRRRRR\"); \n",
    "    }\n",
    "\n",
    "}"
   ]
  },
  {
   "attachments": {},
   "cell_type": "markdown",
   "metadata": {},
   "source": [
    "### Polymorphism\n",
    "* Ability of class to provide different implementations of methods, such as overloading, overriding, late binding"
   ]
  },
  {
   "cell_type": "code",
   "execution_count": null,
   "metadata": {
    "vscode": {
     "languageId": "java"
    }
   },
   "outputs": [],
   "source": [
    "//Hack 3\n",
    "private class Jets extends Plane {\n",
    "    @Override\n",
    "    public void getAge(String model, int age, String color) {\n",
    "        println(\"Age: \" + age);\n",
    "    }\n",
    "\n",
    "    public void getAge(int age, String color) {\n",
    "        println(\"Age: \" + age);\n",
    "    }\n",
    "}"
   ]
  }
 ],
 "metadata": {
  "kernelspec": {
   "display_name": "Java",
   "language": "java",
   "name": "java"
  },
  "language_info": {
   "codemirror_mode": "java",
   "file_extension": ".jshell",
   "mimetype": "text/x-java-source",
   "name": "Java",
   "pygments_lexer": "java",
   "version": "17.0.5+8-Ubuntu-2ubuntu122.04"
  },
  "orig_nbformat": 4
 },
 "nbformat": 4,
 "nbformat_minor": 2
}
