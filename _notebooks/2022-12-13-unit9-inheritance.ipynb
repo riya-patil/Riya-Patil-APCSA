{
 "cells": [
  {
   "attachments": {},
   "cell_type": "markdown",
   "metadata": {},
   "source": [
    "# Unit 9 - Inheritance\n",
    "- toc: true\n",
    "- comments: true\n",
    "- categories: [fastpages, lessonhw]"
   ]
  },
  {
   "cell_type": "code",
   "execution_count": null,
   "metadata": {
    "vscode": {
     "languageId": "java"
    }
   },
   "outputs": [],
   "source": [
    "// Hacks 1\n",
    "private class Plane {\n",
    "    private String model = \"Boeing 737\";\n",
    "    private int age = 3; //two attributes\n",
    "\n",
    "    public void getAge(String model, int age) {\n",
    "        println(\"Age: \" + age);\n",
    "    }\n",
    "}\n",
    "\n",
    "private class Jet extends Plane {\n",
    "    private String color = \"blue\";\n",
    "    \n",
    "}"
   ]
  },
  {
   "cell_type": "code",
   "execution_count": null,
   "metadata": {
    "vscode": {
     "languageId": "java"
    }
   },
   "outputs": [],
   "source": [
    "public class Plane {\n",
    "    private String model = \"Boeing 737\";\n",
    "    private int age = 3;\n",
    "\n",
    "    public void engineBurr() {\n",
    "        System.out.println(\"brrrrrr\");\n",
    "    }\n",
    "}\n",
    "\n",
    "private class Jettison extends Plane {\n",
    "    public Jettison(String model, int age, String color) {\n",
    "        super(model, age); \n",
    "        this.color = color; \n",
    "\n",
    "        @Override\n",
    "        public void engineBurr() {\n",
    "        System.out.println(\"BRRRRRRRRR\"); \n",
    "    }\n",
    "\n",
    "}"
   ]
  },
  {
   "cell_type": "code",
   "execution_count": null,
   "metadata": {
    "vscode": {
     "languageId": "java"
    }
   },
   "outputs": [],
   "source": [
    "//Hack 3\n",
    "private class Jets extends Plane {\n",
    "    @Override\n",
    "    public void getAge(String model, int age, String color) {\n",
    "        println(\"Age: \" + age);\n",
    "    }\n",
    "\n",
    "    public void getAge(int age, String color) {\n",
    "        println(\"Age: \" + age);\n",
    "    }\n",
    "}"
   ]
  }
 ],
 "metadata": {
  "kernelspec": {
   "display_name": "Java",
   "language": "java",
   "name": "java"
  },
  "language_info": {
   "codemirror_mode": "java",
   "file_extension": ".jshell",
   "mimetype": "text/x-java-source",
   "name": "Java",
   "pygments_lexer": "java",
   "version": "17.0.5+8-Ubuntu-2ubuntu122.04"
  },
  "orig_nbformat": 4
 },
 "nbformat": 4,
 "nbformat_minor": 2
}
