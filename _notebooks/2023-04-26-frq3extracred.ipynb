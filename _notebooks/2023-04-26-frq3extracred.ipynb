{
 "cells": [
  {
   "attachments": {},
   "cell_type": "markdown",
   "metadata": {},
   "source": [
    "# FRQ 3 - Arrays/ArrayLists"
   ]
  },
  {
   "attachments": {},
   "cell_type": "markdown",
   "metadata": {},
   "source": [
    "Cookie Order"
   ]
  },
  {
   "cell_type": "code",
   "execution_count": 1,
   "metadata": {
    "vscode": {
     "languageId": "java"
    }
   },
   "outputs": [],
   "source": [
    "public class CookieOrder\n",
    "{\n",
    "    private String variety; \n",
    "    private int boxes;\n",
    "\n",
    " /** Constructs a new CookieOrder object. */\n",
    " public CookieOrder(String variety, int numBoxes){ \n",
    "    this.variety = variety;\n",
    "    this.boxes = numBoxes;\n",
    "  }\n",
    "\n",
    " /** @return the variety of cookie being ordered\n",
    " */\n",
    " public String getVariety(){ \n",
    "    return variety;\n",
    "  }\n",
    "\n",
    "\n",
    " /** @return the number of boxes being ordered\n",
    " */\n",
    " public int getNumBoxes(){\n",
    "    return boxes;\n",
    " }\n",
    " // There may be instance variables, constructors, and methods that are not shown.\n",
    "} "
   ]
  },
  {
   "cell_type": "code",
   "execution_count": 37,
   "metadata": {
    "vscode": {
     "languageId": "java"
    }
   },
   "outputs": [],
   "source": [
    "public class MasterOrder\n",
    "{\n",
    " /** The list of all cookie orders */\n",
    " private List<CookieOrder> orders;\n",
    " /** Constructs a new MasterOrder object. */\n",
    " public MasterOrder(){ \n",
    "    orders = new ArrayList<CookieOrder>();\n",
    "}\n",
    " /** Adds theOrder to the master order.\n",
    " * @param theOrder the cookie order to add to the master order\n",
    " */\n",
    "\n",
    " public void addOrder(CookieOrder theOrder)\n",
    " { orders.add(theOrder); }\n",
    "\n",
    " /** @return the sum of the number of boxes of all of the cookie orders\n",
    " */\n",
    " public int getTotalBoxes(){ \n",
    "    int count = 0;\n",
    "    \n",
    "    for(CookieOrder cookie : orders){ //for each cookie in the list orders, add the num boxes to count\n",
    "        count += cookie.getNumBoxes();\n",
    "    }\n",
    "    return count;\n",
    " }\n",
    "\n",
    "\n",
    " /** Removes all cookie orders from the master order that have the same variety of\n",
    " * cookie as cookieVar and returns the total number of boxes that were removed.\n",
    " * @param cookieVar the variety of cookies to remove from the master order\n",
    " * @return the total number of boxes of cookieVar in the cookie orders removed\n",
    " */\n",
    " public int removeVariety(String cookieVar)\n",
    " { \n",
    "    int removed = 0;\n",
    "    for(CookieOrder cookie: orders){ //for all cookies in orders list\n",
    "        if(cookie.getVariety().equals(cookieVar)){ //if the variety of the cookie equals the name of the cookie\n",
    "            orders.remove(cookie); //remove the cookie and then add the number of boxes removed \n",
    "            removed += cookie.getNumBoxes();\n",
    "        }\n",
    "    }\n",
    "    return removed;\n",
    "}\n",
    " // There may be instance variables, constructors, and methods that are not shown.\n",
    "\n",
    " \n",
    " \n",
    "} "
   ]
  },
  {
   "cell_type": "code",
   "execution_count": 46,
   "metadata": {
    "vscode": {
     "languageId": "java"
    }
   },
   "outputs": [
    {
     "name": "stdout",
     "output_type": "stream",
     "text": [
      "Order 1:\n",
      "\n",
      "Type: chocolate chip; Number of Boxes: 2\n",
      "Type: shortbread; Number of Boxes: 3\n",
      "Total number of boxes in orderList: 5 boxes\n",
      "------------------------------\n",
      "Remove order chocolate chip:\n",
      "\n",
      "Number of boxes removed: 2\n",
      "Number of boxes left: 3\n"
     ]
    }
   ],
   "source": [
    "public class CookieTester{\n",
    "    public static void main(String[] args)\n",
    "    {\n",
    "        MasterOrder orderList = new MasterOrder();\n",
    "        \n",
    "        CookieOrder order1 = new CookieOrder(\"chocolate chip\", 2);\n",
    "        CookieOrder order2 = new CookieOrder(\"shortbread\", 3);\n",
    "        \n",
    "        orderList.addOrder(order1);\n",
    "        orderList.addOrder(order2);\n",
    "\n",
    "        System.out.println(\"Order 1:\");\n",
    "        System.out.println();\n",
    "        System.out.println(\"Type: \" + order1.getVariety() + \"; Number of Boxes: \"+ order1.getNumBoxes());\n",
    "        System.out.println(\"Type: \" + order2.getVariety() + \"; Number of Boxes: \"+ order2.getNumBoxes());\n",
    "        \n",
    "        System.out.println(\"Total number of boxes in orderList: \" + orderList.getTotalBoxes() + \" boxes\");\n",
    "        \n",
    "        System.out.println(\"------------------------------\");\n",
    "\n",
    "        System.out.println(\"Remove order chocolate chip:\");\n",
    "        System.out.println();\n",
    "        System.out.println(\"Number of boxes removed: \" + orderList.removeVariety(\"chocolate chip\")); \n",
    "        System.out.println(\"Number of boxes left: \" + orderList.getTotalBoxes());\n",
    "    }\n",
    "}\n",
    "CookieTester.main(null);"
   ]
  }
 ],
 "metadata": {
  "kernelspec": {
   "display_name": "Java",
   "language": "java",
   "name": "java"
  },
  "language_info": {
   "codemirror_mode": "java",
   "file_extension": ".jshell",
   "mimetype": "text/x-java-source",
   "name": "Java",
   "pygments_lexer": "java",
   "version": "17.0.5+8-Ubuntu-2ubuntu122.04"
  },
  "orig_nbformat": 4
 },
 "nbformat": 4,
 "nbformat_minor": 2
}
