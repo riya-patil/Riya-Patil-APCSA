{
 "cells": [
  {
   "cell_type": "markdown",
   "metadata": {},
   "source": [
    "# Crime Prevention Quiz - Draft\n",
    "Test your knowledge on how well you can protect yourself."
   ]
  },
  {
   "cell_type": "markdown",
   "metadata": {},
   "source": [
    "## Possible Questions \n",
    "\n",
    "1. What are some possible reasons crimes may go unreported?\n",
    "\n",
    "* People are hesitant to call out of fear they will be identified by the potential criminal\n",
    "\n",
    "* People take for granted that someone else has already contacted the police\n",
    "\n",
    "* They worry about being embarrassed if their suspicions prove to be unfounded\n",
    "\n",
    "* All of the above (correct)"
   ]
  },
  {
   "cell_type": "markdown",
   "metadata": {},
   "source": [
    "\n",
    "\n",
    "2. What should you do in the case someone breaks into your house?\n",
    "\n",
    "* Charge at them and take care of it yourself\n",
    "\n",
    "* Hide somewhere safe and call the police (correct)\n",
    "\n",
    "* Give up your belongings and run from your house\n",
    "\n",
    "* Don't do anything"
   ]
  },
  {
   "cell_type": "markdown",
   "metadata": {},
   "source": [
    "\n",
    "\n",
    "\n",
    "3. Out of the following choices, which would be considered \"suspicious activity\"?\n",
    "\n",
    "* A vehicles moving slowly and without lights, or seemingly repetitive or suspicious\n",
    "\n",
    "* Containing one or more suspicious people observed at an unusual hour.\n",
    "\n",
    "* Vehicles being loaded with valuables in front of closed businesses or residences\n",
    "\n",
    "* All of the above (correct)\n"
   ]
  },
  {
   "cell_type": "markdown",
   "metadata": {},
   "source": [
    "\n",
    "\n",
    "\n",
    "4. What should you do if a gun is pointed at you and the criminal asks you to give up your belongings?\n",
    "\n",
    "* Run away in the other direction as fast as you can\n",
    "\n",
    "* Give them your belongings and retreat a good distance away (correct)\n",
    "\n",
    "* Adamantly refuse to listen to their demands \n",
    "\n",
    "* Slowly back up at a slow pace and negotiate with the criminal "
   ]
  },
  {
   "cell_type": "markdown",
   "metadata": {},
   "source": [
    "## References\n",
    "\n",
    "https://www.proprofs.com/quiz-school/quizshow.php?title=nzm3nti0cnp6&q=4\n",
    "\n",
    "https://quizlet.com/36759508/crime-prevention-quiz-flash-cards/\n",
    "\n",
    "https://www.unodc.org/unodc/en/justice-and-prison-reform/CrimePrevention.html"
   ]
  }
 ],
 "metadata": {
  "kernelspec": {
   "display_name": "Java",
   "language": "java",
   "name": "java"
  },
  "language_info": {
   "name": "java"
  },
  "orig_nbformat": 4
 },
 "nbformat": 4,
 "nbformat_minor": 2
}
