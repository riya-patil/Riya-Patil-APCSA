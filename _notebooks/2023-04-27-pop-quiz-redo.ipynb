{
 "cells": [
  {
   "attachments": {},
   "cell_type": "markdown",
   "metadata": {},
   "source": [
    "# Restaurant - Parts 1,2,3\n",
    "- toc: true\n",
    "- categories: [seedec]"
   ]
  },
  {
   "attachments": {},
   "cell_type": "markdown",
   "metadata": {},
   "source": [
    "### Part 1\n",
    "1. Define 1 argument constructor using title\n",
    "2. Define toString method for id and title\n",
    "3. Generate unique id for each object\n",
    "4. Create a public getter that has Book Count\n",
    "5. Define tester method that initializes at least 2 books, outputs id and title, and provides a count of books in library."
   ]
  },
  {
   "cell_type": "code",
   "execution_count": 13,
   "metadata": {
    "vscode": {
     "languageId": "java"
    }
   },
   "outputs": [
    {
     "name": "stdout",
     "output_type": "stream",
     "text": [
      "Part 1:\n",
      "~~~~~~~~~~~\n",
      "Restaurant order: Pasta\n",
      " Order Number: 1\n",
      "Restaurant order: Tacos\n",
      " Order Number: 2\n",
      "Restaurant order: Bagels\n",
      " Order Number: 3\n",
      "\n",
      "Number of Total Orders: 3\n"
     ]
    }
   ],
   "source": [
    "public class Food {\n",
    "    \n",
    "    public String food; \n",
    "    static int orders = 0;\n",
    "    protected double startTime; \n",
    "    private int id;\n",
    "    //protected so it can be accessed through the extended classes\n",
    "\n",
    "    public Food(String food) {\n",
    "        this.food = food;\n",
    "        orders++; //increases the orders since its static\n",
    "        this.startTime = System.nanoTime(); //starts the time when the food is prepared\n",
    "        this.id = orders; //unique id is the order \n",
    "    }\n",
    "\n",
    "    public int getId() {\n",
    "        return id;\n",
    "    }\n",
    "\n",
    "    public String toString() { //uses toString method to get the order\n",
    "        return \"Restaurant order: \" + food + \"\\n Order Number: \" + id;\n",
    "    }\n",
    "\n",
    "    public int getOrders() {\n",
    "        return orders;\n",
    "    }\n",
    "    \n",
    "\n",
    "    public double waitingTime() {\n",
    "        return (System.nanoTime() - startTime);\n",
    "    } //returns the waiting time after food is prepared to when its picked up\n",
    "\n",
    "    public boolean goneBad() {\n",
    "        return (this.waitingTime() >= 4 * 100000000);\n",
    "    } //food has gone bad once time is equal to ~ 1 hr\n",
    "\n",
    "\n",
    "    public static void main(String[] args){\n",
    "\n",
    "        System.out.println(\"Part 1:\");\n",
    "        System.out.println(\"~~~~~~~~~~~\");\n",
    "\n",
    "        Food[] foods = {\n",
    "        new Food(\"Pasta\"),\n",
    "        new Food(\"Tacos\"),\n",
    "        new Food(\"Bagels\")\n",
    "        }; //puts all the foods into an array for simplicity\n",
    "\n",
    "        for(Food food1 : foods){\n",
    "            System.out.println(food1);\n",
    "        } //enhanced for loop to print out all foods\n",
    "\n",
    "        System.out.println(\"\\nNumber of Total Orders: \" + orders);\n",
    "    }\n",
    "}\n",
    "Food.main(null);"
   ]
  },
  {
   "attachments": {},
   "cell_type": "markdown",
   "metadata": {},
   "source": [
    "### Part 2\n",
    "1. Ensure Novel and Textbook run the Constructor from Book.\n",
    "2. Create instance variables unique to Novel has Author, Textbook has publishing company. New items are not required by Constructor.\n",
    "3. Make Getters and Setters for all new items. For instance, be able to set items not required by constructor.\n",
    "4. Add a time when book entered the library. This should be same for Parent and Subclasses.\n",
    "5. Define tester method to test all items"
   ]
  },
  {
   "cell_type": "code",
   "execution_count": null,
   "metadata": {
    "vscode": {
     "languageId": "java"
    }
   },
   "outputs": [],
   "source": []
  }
 ],
 "metadata": {
  "kernelspec": {
   "display_name": "Java",
   "language": "java",
   "name": "java"
  },
  "language_info": {
   "codemirror_mode": "java",
   "file_extension": ".jshell",
   "mimetype": "text/x-java-source",
   "name": "Java",
   "pygments_lexer": "java",
   "version": "17.0.5+8-Ubuntu-2ubuntu122.04"
  },
  "orig_nbformat": 4
 },
 "nbformat": 4,
 "nbformat_minor": 2
}
