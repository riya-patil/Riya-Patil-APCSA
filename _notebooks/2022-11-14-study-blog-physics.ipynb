{
 "cells": [
  {
   "cell_type": "markdown",
   "metadata": {},
   "source": [
    "# Study Blog\n",
    "\n",
    "- toc: true\n",
    "- comments: true\n",
    "- categories: [learning, study]"
   ]
  },
  {
   "cell_type": "markdown",
   "metadata": {},
   "source": [
    "Physics unit that we're currently learning is:\n",
    "\n",
    "### Circular Motion\n",
    "\n",
    "Equations to know: \n",
    "* frequency = 1/period\n",
    "* arc length = r(angle)\n",
    "* Tangential speed = s/t or 2pir/T"
   ]
  }
 ],
 "metadata": {
  "kernelspec": {
   "display_name": "Java",
   "language": "java",
   "name": "java"
  },
  "language_info": {
   "name": "java"
  },
  "orig_nbformat": 4
 },
 "nbformat": 4,
 "nbformat_minor": 2
}
