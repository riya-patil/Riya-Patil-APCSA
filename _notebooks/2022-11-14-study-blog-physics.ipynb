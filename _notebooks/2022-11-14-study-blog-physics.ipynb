{
 "cells": [
  {
   "cell_type": "markdown",
   "metadata": {},
   "source": [
    "# Physics Study Blog\n",
    "\n",
    "- toc: true\n",
    "- comments: true\n",
    "- categories: [learning]"
   ]
  },
  {
   "cell_type": "markdown",
   "metadata": {},
   "source": [
    "Unit that we're currently learning is:\n",
    "\n",
    "### Circular Motion\n",
    "\n",
    "Equations to know: \n",
    "* frequency = 1/period\n",
    "* arc length = r(angle)\n",
    "* Tangential speed = s/t or 2pir/T"
   ]
  }
 ],
 "metadata": {
  "kernelspec": {
   "display_name": "Java",
   "language": "java",
   "name": "java"
  },
  "language_info": {
   "name": "java"
  },
  "orig_nbformat": 4
 },
 "nbformat": 4,
 "nbformat_minor": 2
}
