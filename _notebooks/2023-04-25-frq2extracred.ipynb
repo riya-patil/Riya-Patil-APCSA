{
 "cells": [
  {
   "attachments": {},
   "cell_type": "markdown",
   "metadata": {},
   "source": [
    "# FRQ 2 - Classes\n",
    "\n",
    "- toc: true\n",
    "- categories: [seedec]"
   ]
  },
  {
   "cell_type": "code",
   "execution_count": 1,
   "metadata": {
    "vscode": {
     "languageId": "java"
    }
   },
   "outputs": [],
   "source": [
    "public class Book{\n",
    "    /** The title and price of the book */\n",
    "    private String title;\n",
    "    private double price;\n",
    "\n",
    "    /** Creates a new Book with given title and price */\n",
    "    public Book(String bookTitle, double bookPrice){ \n",
    "        this.title = bookTitle;\n",
    "        this.price = bookPrice;\n",
    "    }\n",
    "    /** Returns the title of the book */\n",
    "    public String getTitle(){ \n",
    "        return title; }\n",
    "    /** Returns a string containing the title and price of the Book */\n",
    "    public String getBookInfo(){\n",
    "        return title + \"-\" + price;\n",
    "    }\n",
    "}"
   ]
  },
  {
   "cell_type": "code",
   "execution_count": 12,
   "metadata": {
    "vscode": {
     "languageId": "java"
    }
   },
   "outputs": [
    {
     "name": "stdout",
     "output_type": "stream",
     "text": [
      "Get Biology Book Info (2019):\n",
      "\n",
      "Edition: 3\n",
      "Book Info: Biology-39.75-3\n",
      "----------------------\n",
      "Can Substitute For:\n",
      "\n",
      "2019 sub for 2015: true\n",
      "2015 sub for 2019: false\n",
      "2015 sub for math: false\n"
     ]
    }
   ],
   "source": [
    "public class Textbook extends Book{\n",
    "    private int edition;\n",
    "\n",
    "    public Textbook(String title, double price, int editionNum){\n",
    "        super(title,price);\n",
    "        this.edition = editionNum;\n",
    "    }\n",
    "    //constructor calls the title and price from parent class using super\n",
    "    //sets edition num\n",
    "\n",
    "    public int getEdition(){\n",
    "        return edition;\n",
    "    }\n",
    "    //gets the edition\n",
    "\n",
    "    public String getBookInfo(){\n",
    "        return super.getBookInfo() + \"-\" + edition;\n",
    "    }\n",
    "    //returns the book info with super book info + the edition\n",
    "\n",
    "    public boolean canSubstituteFor(Textbook textbook){\n",
    "        if(getTitle().equals(textbook.getTitle()) && (edition >= textbook.getEdition())){\n",
    "            //checks to see if the current title is equal to the title from the textbook \n",
    "            //AND checks if the edition of the current is equal or greater than the compared textbook\n",
    "            return true;\n",
    "        }else{\n",
    "            return false;\n",
    "        }\n",
    "    }\n",
    "    \n",
    "    public static void main(String[] args){\n",
    "        Textbook bio2015 = new Textbook(\"Biology\", 49.75, 2);\n",
    "        Textbook bio2019 = new Textbook(\"Biology\", 39.75, 3);\n",
    "        Textbook math = new Textbook(\"Calculus\", 45.25, 1);\n",
    "\n",
    "        System.out.println(\"Get Biology Book Info (2019):\");\n",
    "        System.out.println();\n",
    "        System.out.println(\"Edition: \" + bio2019.getEdition());\n",
    "        System.out.println(\"Book Info: \" + bio2019.getBookInfo());\n",
    "\n",
    "        System.out.println(\"----------------------\");\n",
    "\n",
    "        System.out.println(\"Can Substitute For:\");\n",
    "        System.out.println();\n",
    "        System.out.println(\"2019 sub for 2015: \" + bio2019.canSubstituteFor(bio2015));\n",
    "        System.out.println(\"2015 sub for 2019: \" + bio2015.canSubstituteFor(bio2019));\n",
    "        System.out.println(\"2015 sub for math: \" + bio2015.canSubstituteFor(math));\n",
    "\n",
    "    }    \n",
    "}\n",
    "Textbook.main(null);"
   ]
  }
 ],
 "metadata": {
  "kernelspec": {
   "display_name": "Java",
   "language": "java",
   "name": "java"
  },
  "language_info": {
   "codemirror_mode": "java",
   "file_extension": ".jshell",
   "mimetype": "text/x-java-source",
   "name": "Java",
   "pygments_lexer": "java",
   "version": "17.0.5+8-Ubuntu-2ubuntu122.04"
  },
  "orig_nbformat": 4
 },
 "nbformat": 4,
 "nbformat_minor": 2
}
