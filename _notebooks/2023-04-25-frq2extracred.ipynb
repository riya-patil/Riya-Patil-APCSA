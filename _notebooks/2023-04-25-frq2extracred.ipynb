{
 "cells": [
  {
   "attachments": {},
   "cell_type": "markdown",
   "metadata": {},
   "source": [
    "# FRQ 2 - Classes\n",
    "\n",
    "- toc: true\n",
    "- categories: [seedec]"
   ]
  },
  {
   "cell_type": "code",
   "execution_count": 1,
   "metadata": {
    "vscode": {
     "languageId": "java"
    }
   },
   "outputs": [],
   "source": [
    "public class Book{\n",
    "    /** The title and price of the book */\n",
    "    private String title;\n",
    "    private double price;\n",
    "\n",
    "    /** Creates a new Book with given title and price */\n",
    "    public Book(String bookTitle, double bookPrice){ \n",
    "        this.title = bookTitle;\n",
    "        this.price = bookPrice;\n",
    "    }\n",
    "    /** Returns the title of the book */\n",
    "    public String getTitle(){ \n",
    "        return title; }\n",
    "    /** Returns a string containing the title and price of the Book */\n",
    "    public String getBookInfo(){\n",
    "        return title + \"-\" + price;\n",
    "    }\n",
    "}"
   ]
  },
  {
   "cell_type": "code",
   "execution_count": null,
   "metadata": {
    "vscode": {
     "languageId": "java"
    }
   },
   "outputs": [],
   "source": [
    "public class Textbook{\n",
    "    private int edition;\n",
    "\n",
    "    public Textbook(int editionNum){\n",
    "        super(title,price);\n",
    "        this.edition = editionNum;\n",
    "    }\n",
    "    //constructor calls the title and price from parent class using super\n",
    "    //sets edition num\n",
    "\n",
    "    public int getEdition(){\n",
    "        return edition;\n",
    "    }\n",
    "    //gets the edition\n",
    "\n",
    "    public String getBookInfo(){\n",
    "        return super.getBookInfo() + \"-\" + edition;\n",
    "    }\n",
    "    //returns the book info with super book info + the edition\n",
    "\n",
    "    public boolean canSubstituteFor(Textbook textbook){\n",
    "        \n",
    "    }\n",
    "\n",
    "    \n",
    "\n",
    "    \n",
    "}"
   ]
  }
 ],
 "metadata": {
  "kernelspec": {
   "display_name": "Java",
   "language": "java",
   "name": "java"
  },
  "language_info": {
   "codemirror_mode": "java",
   "file_extension": ".jshell",
   "mimetype": "text/x-java-source",
   "name": "Java",
   "pygments_lexer": "java",
   "version": "17.0.5+8-Ubuntu-2ubuntu122.04"
  },
  "orig_nbformat": 4
 },
 "nbformat": 4,
 "nbformat_minor": 2
}
