{
 "cells": [
  {
   "attachments": {},
   "cell_type": "markdown",
   "metadata": {},
   "source": [
    "# CSUSM Talk\n",
    "* toc: true"
   ]
  },
  {
   "attachments": {},
   "cell_type": "markdown",
   "metadata": {},
   "source": [
    "My takeaways from the ambassadors talk:\n",
    "\n",
    "As someone who is interested in pursuing a career in physics and engineering, hearing the talk about California State University of San Marcos (CSUSM) impacted and inspired me greatly. The ambassadors from CSUSM shared their personal experiences and highlighted the unique opportunities that the university has to offer. I was particularly impressed by the variety of programs offered at CSUSM, including physics, chemistry, math, computer science, cybersecurity, and engineering. The ambassadors' stories of resilience and determination also inspired me to persevere despite any challenges that may arise in my academic journey. Learning about the different internship and research programs available at CSUSM, as well as the various scholarship and grant opportunities, gave me a better understanding of the financial aspects of attending college. \n",
    "The computer science program at CSUSM sounded particularly intriguing to me. The ambassadors mentioned that the program offers a range of opportunities, including cybersecurity and software engineering. I was impressed by the fact that the program was new and seemed to be growing quickly, which could mean that there will be even more opportunities available in the future. Overall, I feel much more informed and excited about the possibility of attending CSUSM in the future.\n"
   ]
  }
 ],
 "metadata": {
  "language_info": {
   "name": "python"
  },
  "orig_nbformat": 4
 },
 "nbformat": 4,
 "nbformat_minor": 2
}
