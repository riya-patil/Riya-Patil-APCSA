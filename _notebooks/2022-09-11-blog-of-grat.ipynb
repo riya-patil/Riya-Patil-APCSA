{
 "cells": [
  {
   "cell_type": "markdown",
   "metadata": {},
   "source": [
    "# Psychology and the Good Life\n",
    "Goals I have for this year and note of gratitude.\n",
    "- toc: true\n",
    "- comments: true\n",
    "- categories: [human, fastpages]"
   ]
  },
  {
   "cell_type": "markdown",
   "metadata": {},
   "source": [
    "## Note of Gratitude - Vidhi\n",
    "Hi Vidhi! I'm very thankful to you for helping me with CSA. Since I didn't take CSP last year, I was feeling a bit lost when the class started. Now, I feel more confident, especially because I can count on you to help me. Hopefully one day I can help you back :) Thanks for being a great friend too (and a great meme).\n",
    "\n",
    "-Riya"
   ]
  },
  {
   "cell_type": "markdown",
   "metadata": {},
   "source": [
    "## Note of Gratitude - My Sister\n",
    "I am really grateful to my sister, because she believes in me no matter what I'm trying to accomplish. If I mess up, she says \"you got this, try again\" and if I succeed, she tells me I did a great job. She may be younger than me, but I will be always grateful for her support and will give her that support back when she needs it.\n",
    "\n",
    "-Riya"
   ]
  },
  {
   "cell_type": "markdown",
   "metadata": {},
   "source": [
    "## Goals for Personal Life\n",
    "* Don't stress too much\n",
    "* Get more sleep\n",
    "* Do the things you love\n",
    "* Work hard and achieve "
   ]
  },
  {
   "cell_type": "markdown",
   "metadata": {},
   "source": [
    "## Goals for Academic Life\n",
    "* Try and excel in your classes\n",
    "* Don't be afraid to ask questions\n",
    "* Do your best"
   ]
  },
  {
   "cell_type": "markdown",
   "metadata": {},
   "source": [
    "## Specific Goals for School\n",
    "* Study for Calc BC tests (they're hard)\n",
    "* Don't sleep too late because of procrastination\n",
    "* Study for physics test coming up\n",
    "* Practice for the next apel on demand\n",
    "* Work on forehand and backhand for tennis\n",
    "* Engage at robotics and other clubs "
   ]
  },
  {
   "cell_type": "markdown",
   "metadata": {},
   "source": [
    "## Harvard Video\n",
    "What I learned from this video is that:\n",
    "* You shouldn't compare yourself to other people, because that just lowers your sense of self and esteem\n",
    "* Don't stress out and focus on the good things, not the bad\n",
    "* If you find yourself procrastinating, find interest in and have fun with the work you're doing\n",
    "* Enjoy the things you do in life instead of worrying"
   ]
  }
 ],
 "metadata": {
  "language_info": {
   "name": "python"
  },
  "orig_nbformat": 4
 },
 "nbformat": 4,
 "nbformat_minor": 2
}
