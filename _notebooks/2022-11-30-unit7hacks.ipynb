{
 "cells": [
  {
   "attachments": {},
   "cell_type": "markdown",
   "metadata": {},
   "source": [
    "# Unit 7 - ArrayList\n",
    "- toc: true\n",
    "- comments: true\n",
    "- categories: [lessonhw, fastpages]\n",
    "Here are my notes & hw for unit 7: Arraylists"
   ]
  },
  {
   "cell_type": "code",
   "execution_count": null,
   "metadata": {
    "vscode": {
     "languageId": "java"
    }
   },
   "outputs": [],
   "source": [
    "import java.util.ArrayList;\n",
    "\n",
    "public class Demo{\n",
    "    public static void main(String[] args) {\n",
    "        ArrayList<String> fruits = new ArrayList<String>();\n",
    "        fruits.add(\"apple\");\n",
    "        fruits.add(\"pineapple\");\n",
    "        fruits.add(\"pineapple\");\n",
    "        fruits.add(\"pears\");\n",
    "        fruits.add(\"oranges\");\n",
    "        \n",
    "        for (int i = 0; i < fruits.size(); i++) {\n",
    "            System.out.println(fruits.get(i)); \n",
    "        }\n",
    "    }\n",
    "}\n",
    "Demo.main(null)"
   ]
  },
  {
   "cell_type": "code",
   "execution_count": 5,
   "metadata": {
    "vscode": {
     "languageId": "java"
    }
   },
   "outputs": [
    {
     "name": "stdout",
     "output_type": "stream",
     "text": [
      "3\n"
     ]
    }
   ],
   "source": [
    "//Hack 1\n",
    "\n",
    "import java.util.ArrayList; \n",
    "\n",
    "public class hack1 {\n",
    "    public static void main (String[] args) {\n",
    "       ArrayList<Integer> testArray = new ArrayList<Integer>(); \n",
    "       testArray.add(103);\n",
    "       testArray.add(3);\n",
    "       testArray.add(12312312);\n",
    "       System.out.println(testArray.size()); \n",
    "    }\n",
    "}\n",
    "\n",
    "hack1.main(null);"
   ]
  },
  {
   "cell_type": "code",
   "execution_count": 2,
   "metadata": {
    "vscode": {
     "languageId": "java"
    }
   },
   "outputs": [
    {
     "name": "stdout",
     "output_type": "stream",
     "text": [
      "[green box, blue water]\n"
     ]
    }
   ],
   "source": [
    "//Hack 2\n",
    "import java.util.ArrayList;\n",
    "\n",
    "ArrayList<String> color = new ArrayList<String>(); \n",
    "color.add(\"red apple\");\n",
    "color.add(\"green box\");\n",
    "color.add(\"blue water\");\n",
    "color.add(\"red panda\");\n",
    "\n",
    "for (int i = 0; i < color.size(); i++) {\n",
    "    if (color.get(i).contains(\"red\")) {\n",
    "        color.remove(i); \n",
    "    } \n",
    "}\n",
    "\n",
    "System.out.println(color); "
   ]
  },
  {
   "cell_type": "code",
   "execution_count": 1,
   "metadata": {
    "vscode": {
     "languageId": "java"
    }
   },
   "outputs": [
    {
     "name": "stdout",
     "output_type": "stream",
     "text": [
      "8\n"
     ]
    }
   ],
   "source": [
    "//Hack 3\n",
    "\n",
    "ArrayList<Integer> num = new ArrayList<Integer>(); \n",
    "\n",
    "num.add(6);\n",
    "num.add(1);\n",
    "num.add(1);\n",
    "\n",
    "int sum = 0; \n",
    "\n",
    "for (int number : num) {\n",
    "    sum += number;\n",
    "}\n",
    "System.out.println(sum);"
   ]
  }
 ],
 "metadata": {
  "kernelspec": {
   "display_name": "Java",
   "language": "java",
   "name": "java"
  },
  "language_info": {
   "codemirror_mode": "java",
   "file_extension": ".jshell",
   "mimetype": "text/x-java-source",
   "name": "Java",
   "pygments_lexer": "java",
   "version": "17.0.5+8-Ubuntu-2ubuntu122.04"
  },
  "orig_nbformat": 4
 },
 "nbformat": 4,
 "nbformat_minor": 2
}
