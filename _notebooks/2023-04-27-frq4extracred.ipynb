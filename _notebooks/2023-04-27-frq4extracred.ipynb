{
 "cells": [
  {
   "attachments": {},
   "cell_type": "markdown",
   "metadata": {},
   "source": [
    "# FRQ 4 - 2D Arrays\n",
    "- categories: [seedec]\n",
    "- toc: true"
   ]
  },
  {
   "attachments": {},
   "cell_type": "markdown",
   "metadata": {},
   "source": [
    "Data"
   ]
  },
  {
   "cell_type": "code",
   "execution_count": 14,
   "metadata": {
    "vscode": {
     "languageId": "java"
    }
   },
   "outputs": [],
   "source": [
    "public class Data\n",
    "{\n",
    "\n",
    "    public static final int MAX = 100000;\n",
    "    private int[][] grid;\n",
    "    \n",
    "    public Data(){\n",
    "        grid = new int[2][2];\n",
    "    }\n",
    "    /** Fills all elements of grid with randomly generated values, as described in part (a)\n",
    "     * * Precondition: grid is not null.\n",
    "     *  grid has at least one element.\n",
    "     * */\n",
    "    public void repopulate(){ \n",
    "        for(int i = 0; i<grid.length; i++){\n",
    "            //iterates through rows\n",
    "            for(int j = 0; j<grid[0].length; j++){\n",
    "                //then columns\n",
    "                int rand = (int)Math.random() * MAX;\n",
    "                //returns random value within range of MAX\n",
    "                while(rand % 10 != 0 || rand % 100 == 0){\n",
    "                    rand = (int)Math.random() * MAX;\n",
    "                    //if the conditions are not met, keep generating random\n",
    "                }\n",
    "                grid[i][j] = rand;\n",
    "                //place int in grid spot\n",
    "            }\n",
    "        }\n",
    "    }\n",
    "\n",
    "    /** Returns the number of columns in grid that are in increasing order, as described\n",
    "    * in part (b)\n",
    "    * Precondition: grid is not null.\n",
    "    * grid has at least one element.\n",
    "    */\n",
    "    public int countIncreasingCols(){\n",
    "        return 0;\n",
    "    }\n",
    "\n",
    "}"
   ]
  },
  {
   "cell_type": "code",
   "execution_count": null,
   "metadata": {
    "vscode": {
     "languageId": "java"
    }
   },
   "outputs": [],
   "source": [
    "public class DataTester{\n",
    "    public static void main(String[] args)\n",
    "    {\n",
    "       \n",
    "     System.out.println(\"hi\");   \n",
    "    }\n",
    "}\n",
    "DataTester.main(null);"
   ]
  }
 ],
 "metadata": {
  "kernelspec": {
   "display_name": "Java",
   "language": "java",
   "name": "java"
  },
  "language_info": {
   "codemirror_mode": "java",
   "file_extension": ".jshell",
   "mimetype": "text/x-java-source",
   "name": "Java",
   "pygments_lexer": "java",
   "version": "17.0.5+8-Ubuntu-2ubuntu122.04"
  },
  "orig_nbformat": 4
 },
 "nbformat": 4,
 "nbformat_minor": 2
}
