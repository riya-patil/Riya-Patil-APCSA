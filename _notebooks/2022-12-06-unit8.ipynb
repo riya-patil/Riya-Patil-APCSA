{
 "cells": [
  {
   "cell_type": "markdown",
   "metadata": {},
   "source": [
    "# Unit 8 - 2D Arrays\n",
    "> Notes, Hacks, and HW for 2D Arrays.\n",
    "\n",
    "- toc: true \n",
    "- badges: true\n",
    "- comments: true\n",
    "- categories: [jupyter]\n",
    "- title: Unit 8 - 2D Arrays"
   ]
  },
  {
   "cell_type": "markdown",
   "metadata": {},
   "source": [
    "## Learning Objective!\n",
    "#### Represent collections of related primitive and object reference data using two dimensional array objects."
   ]
  },
  {
   "cell_type": "markdown",
   "metadata": {},
   "source": [
    "## 2D Array Vocab:\n",
    "- **Array** = a data structure used to implement a collection (list) of primitive or object reference data\n",
    "- **Element** = a single value in the array\n",
    "- **Index** = the position of the element in the array (starts from 0)\n",
    "- **Array Length** = the number of elements in the array\n",
    "    - Is public, so can be accessed in any class\n",
    "    - Is also final, so can’t change it after array has been created"
   ]
  },
  {
   "cell_type": "markdown",
   "metadata": {},
   "source": [
    "## The Basics:\n",
    "- A 2D array is an array of arrays, and can be a better way to store data\n",
    "- Declaring a 2D array:\n",
    "    - `DataType[][] nameOf2DArray`\n",
    "- Initializing a 2D array\n",
    "    - `DataType[][] nameOf2DArray = new DataType[r][c];`\n",
    "         - r = # of rows \n",
    "            - The # of arrays in the array\n",
    "            - `r = list.length`\n",
    "        - c = # of columns\n",
    "            - The # of elements in the inner arrays\n",
    "            - `c = list[0].length`\n",
    "\n",
    "### Initializing a Sample Array:"
   ]
  },
  {
   "cell_type": "code",
   "execution_count": 13,
   "metadata": {
    "vscode": {
     "languageId": "java"
    }
   },
   "outputs": [
    {
     "name": "stdout",
     "output_type": "stream",
     "text": [
      "arr[0][0] = 1\n",
      "arr[2][0] = 6\n",
      "arr[2][1] = 8\n"
     ]
    }
   ],
   "source": [
    "public class Test {\n",
    "\n",
    "   public static void main(String[] args) {\n",
    "\n",
    "      int[][] arr = {\n",
    "         { 1, 2, 3 },\n",
    "         { 4, 5, 6 },\n",
    "         { 7, 8, 9 }\n",
    "      };\n",
    "\n",
    "      System.out.println(\"arr[0][0] = \" + arr[0][0]);\n",
    "      System.out.println(\"arr[1][2] = \" + arr[1][2]);\n",
    "      System.out.println(\"arr[2][1] = \" + arr[2][1]);\n",
    "      \n",
    "   }\n",
    "\n",
    "}\n",
    "Test.main(null);"
   ]
  },
  {
   "cell_type": "markdown",
   "metadata": {},
   "source": [
    "## Accessing and Updating Elements of a 2D Array:\n",
    "- `nameOf2DArray[r][c]`\n",
    "\n",
    "### Hack 1: Access the last element of the 2D Array list:"
   ]
  },
  {
   "cell_type": "code",
   "execution_count": 75,
   "metadata": {
    "vscode": {
     "languageId": "java"
    }
   },
   "outputs": [],
   "source": [
    "public class Test {\n",
    "\n",
    "    public static void main(String[] args) {\n",
    " \n",
    "      String[][] arr = {\n",
    "         { \"a\", \"f\", \"g\" },\n",
    "         { \"b\", \"e\", \"h\" },\n",
    "         { \"c\", \"d\", \"i\" }\n",
    "      };\n",
    " \n",
    "      // Print the last element in the array!\n",
    "       \n",
    "    }\n",
    " \n",
    " }\n",
    " Test.main(null);"
   ]
  },
  {
   "cell_type": "markdown",
   "metadata": {},
   "source": [
    "- a quick tip for the future: `list[list.length - 1][list[0].length - 1]`\n",
    "- Updating an element:\n",
    "  - `list[r][c]  = value;`"
   ]
  },
  {
   "cell_type": "markdown",
   "metadata": {},
   "source": [
    "### Hack 2: Changing a Value:"
   ]
  },
  {
   "cell_type": "code",
   "execution_count": 23,
   "metadata": {
    "vscode": {
     "languageId": "java"
    }
   },
   "outputs": [
    {
     "name": "stdout",
     "output_type": "stream",
     "text": [
      "Change Austin to Athens and print!\n"
     ]
    }
   ],
   "source": [
    "public class Test {\n",
    "\n",
    "    public static void main(String[] args) {\n",
    " \n",
    "      String[][] arr = {\n",
    "         { \"Atlanta\", \"Baltimore\", \"Chicago\" },\n",
    "         { \"Australia\", \"Boston\", \"Cincinnati\" },\n",
    "         { \"Austin\", \"Beaumont\", \"Columbus\" }\n",
    "      };\n",
    " \n",
    "       // Change Austin to Athens and print!\n",
    "       System.out.println(\"Change Austin to Athens and print!\");\n",
    "       \n",
    "    }\n",
    " \n",
    " }\n",
    " Test.main(null);"
   ]
  },
  {
   "cell_type": "markdown",
   "metadata": {},
   "source": [
    "## Nested Loops, Our Beloved:\n",
    "- You can use Nested Loops to traverse 2D Arrays\n",
    "  - for example: to print out an entire array in order, you need to use these"
   ]
  },
  {
   "cell_type": "code",
   "execution_count": 36,
   "metadata": {
    "vscode": {
     "languageId": "java"
    }
   },
   "outputs": [
    {
     "name": "stdout",
     "output_type": "stream",
     "text": [
      "a f g l  \n",
      "b e h k  \n",
      "c d i j  \n"
     ]
    }
   ],
   "source": [
    "public class Test {\n",
    "\n",
    "    public static void main(String[] args) {\n",
    " \n",
    "      String[][] arr = {\n",
    "         { \"a\", \"f\", \"g\", \"l\" },\n",
    "         { \"b\", \"e\", \"h\", \"k\" },\n",
    "         { \"c\", \"d\", \"i\", \"j\" }\n",
    "      };\n",
    " \n",
    "      for (int row = 0; row < 3; row++) {\n",
    "         for (int col = 0; col < 4; col++) {\n",
    "            System.out.print(arr[row][col] + \" \");\n",
    "         }\n",
    "        System.out.println(\" \");\n",
    "      }\n",
    "       \n",
    "    }\n",
    " \n",
    " }\n",
    " Test.main(null);"
   ]
  },
  {
   "cell_type": "markdown",
   "metadata": {},
   "source": [
    "- Make sure your columns for loop is always inside your rows for loop!\n",
    "  - Unless you want it printed the other way of course \n",
    "- Print spaces and lines in between to make a neater matrix\n",
    "\n",
    "### Hack 3: Unknown Dimensions:"
   ]
  },
  {
   "cell_type": "code",
   "execution_count": 37,
   "metadata": {
    "vscode": {
     "languageId": "java"
    }
   },
   "outputs": [],
   "source": [
    "public class Test {\n",
    "\n",
    "   public static void main(String[] args) {\n",
    "\n",
    "      String[][] arr = {\n",
    "         { \"Atlanta\", \"Baltimore\", \"Chicago\" },\n",
    "         { \"Australia\", \"Boston\", \"Cincinnati\" },\n",
    "         { \"Austin\", \"Beaumont\", \"Columbus\" }\n",
    "      };\n",
    "\n",
    "      // Print out the array without using numerical values!\n",
    "      \n",
    "   }\n",
    "\n",
    "}\n",
    "Test.main(null);"
   ]
  },
  {
   "cell_type": "markdown",
   "metadata": {},
   "source": [
    "## Searching for a Value in a 2D Array:\n",
    "- Here's a quick example to illustrate:"
   ]
  },
  {
   "cell_type": "code",
   "execution_count": 5,
   "metadata": {
    "vscode": {
     "languageId": "java"
    }
   },
   "outputs": [
    {
     "name": "stdout",
     "output_type": "stream",
     "text": [
      "Boston\n"
     ]
    }
   ],
   "source": [
    "public class Test {\n",
    "\n",
    "    public static void main(String[] args) {\n",
    "  \n",
    "        String[][] arr = {\n",
    "            { \"Atlanta\", \"Baltimore\", \"Chicago\" },\n",
    "            { \"Australia\", \"Boston\", \"Cincinnati\" },\n",
    "            { \"Austin\", \"Beaumont\", \"Columbus\" }\n",
    "        };\n",
    "\n",
    "        String match = \"\";\n",
    "        String name = \"Boston\";\n",
    "        for (String[] row : arr) {\n",
    "            for (String item : row) {\n",
    "                if (item.equals(name)) {\n",
    "                    match = name;\n",
    "                }\n",
    "            }\n",
    "        }\n",
    "\n",
    "        if (match.length() == 0) {\n",
    "            System.out.println(\"No Match!\");\n",
    "        } else {\n",
    "            System.out.println(name);\n",
    "        }\n",
    "        \n",
    "    }\n",
    " \n",
    " }\n",
    "Test.main(null);"
   ]
  },
  {
   "cell_type": "markdown",
   "metadata": {},
   "source": [
    "- Note: in the code, you see the use of `:` which essentially means within.\n",
    "\n",
    "### Hack 4: Finding the Min/Max Value:"
   ]
  },
  {
   "cell_type": "code",
   "execution_count": 74,
   "metadata": {
    "vscode": {
     "languageId": "java"
    }
   },
   "outputs": [
    {
     "name": "stdout",
     "output_type": "stream",
     "text": [
      "Use nested for loops to find the longest string!\n"
     ]
    }
   ],
   "source": [
    "public class Test {\n",
    "\n",
    "    public static void main(String[] args) {\n",
    "  \n",
    "        String[][] arr = {\n",
    "            { \"Atlanta\", \"Baltimore\", \"Chicago\" },\n",
    "            { \"Australia\", \"Boston\", \"Cincinnati\" },\n",
    "            { \"Austin\", \"Beaumont\", \"Columbus\" }\n",
    "        };\n",
    "\n",
    "        String longest = arr[0][0];\n",
    "\n",
    "        // Use nested for loops to find the longest or shortest string!\n",
    "        System.out.println(\"Use nested for loops to find the longest or shortest string!\");\n",
    "        \n",
    "    }\n",
    " \n",
    " }\n",
    "Test.main(null);"
   ]
  },
  {
   "cell_type": "markdown",
   "metadata": {},
   "source": [
    "## HW!\n",
    "#### Please submit screenshots of your 4 hacks up and running to our [Google Form](https://forms.gle/J19yfg9h5Pcen4ka6), which also has a few 2D array related multiple choice questions.\n",
    "#### Additionally, Complete and send a screenshot of your code for `2017 FRQ Q4: Successor Array` in that same google form.\n",
    "#### Please submit as a pair or group."
   ]
  }
 ],
 "metadata": {
  "kernelspec": {
   "display_name": "Java",
   "language": "java",
   "name": "java"
  },
  "language_info": {
   "codemirror_mode": "java",
   "file_extension": ".jshell",
   "mimetype": "text/x-java-source",
   "name": "Java",
   "pygments_lexer": "java",
   "version": "11.0.16+8-post-Ubuntu-0ubuntu120.04"
  },
  "orig_nbformat": 4,
  "vscode": {
   "interpreter": {
    "hash": "fb105577493444c5032679e33bb5d5b8088492bef3ae548646e733454240bf9c"
   }
  }
 },
 "nbformat": 4,
 "nbformat_minor": 2
}
