{
 "cells": [
  {
   "attachments": {},
   "cell_type": "markdown",
   "metadata": {},
   "source": [
    "# Extra Credit Panel - 12/13/2022\n",
    "- toc: true\n",
    "- comments: true\n",
    "- categories: [fastpages, learning]"
   ]
  },
  {
   "attachments": {},
   "cell_type": "markdown",
   "metadata": {},
   "source": [
    "My reflection on the tech panel 12/13: \n",
    "\n",
    "Guest speakers Kathyleen Beveridge and Kris Porter came to speak about their career and give advice to us. First, as a director of marketing operations, Beveridge talked about her journey into high tech, from being an investment banker to HP to working in ThermoFischer scientific. Her main teaching point was about helping people and making an impact on their lives. Service in banking was helping people with retirement and providing ways to make them wealthy, while high tech would provide more incentive to help the community more. ThermoFischer is the world leader in serving the science community, and when she switched she enjoyed working with the computer science people to bring fresh, new ideas to the market and help impact the world more. I resonated with her talk because I want to go into science and technology, not due to the plethora of jobs that it supplies but because I want to do something that will mean a lot to other people in the future. Beveridge is also the prime example that you don’t need to be purely in computer science or engineering to be able to contribute to the science community/field. After that, software engineer Kris Porter told us about his career path and what he’s doing now. He went to UCLA for a bachelors and then Cal State for his masters in electrical engineering, before graduating when the stock market crashed and finding a job was hard. He worked at many different companies and was continuously learning new things including machine learning, self taught python, data structures and algorithms, and rigorous training at Twitter. Some projects he worked on were NBC media streaming infrastructure for the 2012 Olympics, Center for Embedded Network Sensors to scan the environment, and migrating Twitter with a new data center. His talk was very inspirational and interesting to listen to, especially since I want to go into electrical engineering as a major and main job focus. Using him as an example when he graduated during hard times, I can also go into this field and succeed. All in all, this panel with guest speakers really taught me a lot about how the real work of computer science, engineering, and STEM in general works."
   ]
  }
 ],
 "metadata": {
  "language_info": {
   "name": "python"
  },
  "orig_nbformat": 4
 },
 "nbformat": 4,
 "nbformat_minor": 2
}
