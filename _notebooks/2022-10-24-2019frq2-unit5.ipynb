{
 "cells": [
  {
   "cell_type": "markdown",
   "metadata": {},
   "source": [
    "# Unit 5 HW - 2019 FRQ #2\n",
    "\n",
    "- toc: true\n",
    "- categories: [lessonhw, fastpages]"
   ]
  },
  {
   "cell_type": "markdown",
   "metadata": {},
   "source": [
    "* class plan for create objects\n",
    "* object is the instances of a class\n",
    "* public  mens anyone can access while private means that there is restricted access\n",
    "* constructors - initialize instance variables when object is called\n",
    "* set an initial object state and initial instance variables\n",
    " \n",
    "There are 3 steps to creating and calling methods:\n",
    " \n",
    "1) declare object of the class in the main method\n",
    "2) call the method\n",
    "3) write the method header and body"
   ]
  },
  {
   "cell_type": "markdown",
   "metadata": {},
   "source": [
    "## Write the complete StepTracker class, including the constructor and any required instance variables and methods. Your implementation must meet all specifications and conform to the example."
   ]
  },
  {
   "cell_type": "code",
   "execution_count": null,
   "metadata": {},
   "outputs": [],
   "source": [
    "public class StepTracker\n",
    "\n",
    "{\n",
    "    private int minStepsActive; //instance variable declarations\n",
    "    private int activeDays;\n",
    "    private int days;\n",
    "    private int totalStep;\n",
    "\n",
    "    public StepTracker(int minStepsActive) //constructors with default parameters\n",
    "    { \n",
    "    this.minStepsActive= minStepsActive;\n",
    "    activeDays = 0;\n",
    "    days = 0;\n",
    "    totalSteps = 0;\n",
    "    }\n",
    "\n",
    "    //accessor method\n",
    "    public int activeDays()\n",
    "    {\n",
    "        return activeDays;\n",
    "    }\n",
    "\n",
    "    //mutator method\n",
    "    public void addDailySteps(int steps)\n",
    "    { \n",
    "        if(steps >= minStepsActive)\n",
    "            activeDays++;\n",
    "            days++;\n",
    "            totalSteps += steps;\n",
    "    }\n",
    "\n",
    "    //average steps\n",
    "\n",
    "    public double averageSteps() //used because dividing\n",
    "    {\n",
    "        if(days==0)\n",
    "            return = 0;\n",
    "\n",
    "        return totalSteps / (double)days;\n",
    "    }\n",
    "\n",
    "    public static void main(String[] args)\n",
    "    {\n",
    "        StepTracker tr = new StepTracker;\n",
    "        System.out.println(tr.activeDays())\n",
    "        tr.addDailySteps(9000);\n",
    "        tr.addDailySteps(5000);\n",
    "        System.out.println(tr.activeDays());\n",
    "        tr.addDailySteps(13000); //only active day because it holds at least 10000 steps\n",
    "        System.out.println(tr.activeDays());\n",
    "    }\n",
    "}"
   ]
  }
 ],
 "metadata": {
  "kernelspec": {
   "display_name": "Java",
   "language": "java",
   "name": "java"
  },
  "language_info": {
   "codemirror_mode": "java",
   "file_extension": ".jshell",
   "mimetype": "text/x-java-source",
   "name": "java",
   "pygments_lexer": "java",
   "version": "11.0.16+8-post-Ubuntu-0ubuntu122.04"
  },
  "orig_nbformat": 4
 },
 "nbformat": 4,
 "nbformat_minor": 2
}
