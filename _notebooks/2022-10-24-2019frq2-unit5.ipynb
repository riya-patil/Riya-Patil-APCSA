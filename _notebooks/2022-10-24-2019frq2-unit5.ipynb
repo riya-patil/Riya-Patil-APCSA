{
 "cells": [
  {
   "cell_type": "markdown",
   "metadata": {},
   "source": [
    "# Unit 5 HW - 2019 FRQ #2\n",
    "\n",
    "- toc: true\n",
    "- categories: [lessonhw, fastpages, jupyter]"
   ]
  },
  {
   "cell_type": "markdown",
   "metadata": {},
   "source": [
    "* class plan for create objects\n",
    "* object is the instances of a class\n",
    "* public  mens anyone can access while private means that there is restricted access\n",
    "* constructors - initialize instance variables when object is called\n",
    "* set an initial object state and initial instance variables\n",
    " \n",
    "There are 3 steps to creating and calling methods:\n",
    " \n",
    "1) declare object of the class in the main method\n",
    "2) call the method\n",
    "3) write the method header and body\n",
    "\n",
    "### Creating a Class\n",
    "* creating classes provides templates for creating objects, which can bind code into data\n",
    "* has definitions of methods and data\n",
    "* Class names should be nouns, in mixed cases with the first letter of each internal word capitalized. \n",
    "* Interfaces names should also be capitalized just like class names.\n",
    "* Use whole words and must avoid acronyms and abbreviations\n",
    "\n",
    "### Constructors\n",
    "* used to create the instance of the class\n",
    "* name is same as class name and has no return type and only returns object to class; adding return would make it a method "
   ]
  },
  {
   "cell_type": "markdown",
   "metadata": {},
   "source": [
    "### Accessor Method\n",
    "* Accessor methods return the value of a private method\n",
    "* getter returns the value of data types using the accessor method (instance method to get or set values of an object)\n",
    "\n",
    "### Mutator Method\n",
    "* Mutator methods reset the value of a private variable\n",
    "* relates to the setter because it updates the value of the variable\n",
    "* void type represents void return type as a class and contains a public value and is assigned the value of null since it isn’t instantiable \n",
    "\n",
    "* this keyword refers to current object in a method or constructor"
   ]
  },
  {
   "cell_type": "code",
   "execution_count": null,
   "metadata": {},
   "outputs": [],
   "source": [
    "public String getVariable(){\n",
    "//accessor method\n",
    "}\n",
    "\n",
    "public void setVariable(String variable){\n",
    "    this.variable = variable; //example of mutator method\n",
    "}"
   ]
  },
  {
   "cell_type": "markdown",
   "metadata": {},
   "source": [
    "### Static & Class Methods and Variables\n",
    "* Static vars are also called class variables because they belong to a class and not an instance\n",
    "* Static method belongs to a class rather than an instance of class\n",
    "* class methods are called on the class itself not a specific object\n",
    "\n",
    "ACCESS MODIFIERS:\n",
    "* Keywords to control visibility of methods and constructors in classes\n",
    "* Public means it can be accessed from anywhere\n",
    "* Private means only within the same class\n",
    "* protected means that it is accessed within the same package and outside with a child class"
   ]
  },
  {
   "cell_type": "code",
   "execution_count": 4,
   "metadata": {},
   "outputs": [
    {
     "ename": "CompilationException",
     "evalue": "",
     "output_type": "error",
     "traceback": [
      "\u001b[1m\u001b[30m|   \u001b[1m\u001b[30m        \u001b[0m\u001b[1m\u001b[30m\u001b[41md.name\u001b[0m\u001b[1m\u001b[30m = \"Hello\";\u001b[0m",
      "\u001b[1m\u001b[31mname has private access in Data\u001b[0m",
      ""
     ]
    }
   ],
   "source": [
    "class Data {\n",
    "    // private variable\n",
    "    private String name;\n",
    "}\n",
    "\n",
    "public class Main {\n",
    "    public static void main(String[] main){\n",
    "\n",
    "        // create an object of Data\n",
    "        Data d = new Data();\n",
    "\n",
    "        // access private variable and field from another class\n",
    "        d.name = \"Hello\";\n",
    "    }\n",
    "} //error because private\n",
    "Data.main(null);"
   ]
  },
  {
   "cell_type": "code",
   "execution_count": 7,
   "metadata": {},
   "outputs": [],
   "source": [
    "class Animal {\n",
    "    // protected method\n",
    "    protected void display() {\n",
    "        System.out.println(\"I am an animal\");\n",
    "    }\n",
    "}\n",
    "\n",
    "class Dog extends Animal {\n",
    "    public static void main(String[] args) {\n",
    "\n",
    "        // create an object of Dog class\n",
    "        Dog dog = new Dog();\n",
    "         // access protected method\n",
    "        dog.display();\n",
    "    }\n",
    "}"
   ]
  },
  {
   "cell_type": "code",
   "execution_count": 8,
   "metadata": {},
   "outputs": [],
   "source": [
    "// public class\n",
    "public class Animal {\n",
    "    // public variable\n",
    "    public int legCount;\n",
    "\n",
    "    // public method\n",
    "    public void display() {\n",
    "        System.out.println(\"I am an animal.\");\n",
    "        System.out.println(\"I have \" + legCount + \" legs.\");\n",
    "    }\n",
    "}\n",
    "\n",
    "// Main.java\n",
    "public class Main {\n",
    "    public static void main( String[] args ) {\n",
    "        // accessing the public class\n",
    "        Animal animal = new Animal();\n",
    "\n",
    "        // accessing the public variable\n",
    "        animal.legCount = 4;\n",
    "        // accessing the public method\n",
    "        animal.display();\n",
    "    }\n",
    "}"
   ]
  },
  {
   "cell_type": "markdown",
   "metadata": {},
   "source": [
    "### Main Method & Tester Method\n",
    "* Main contains code to execute and call other methods, usually the entry point to execute Java program\n",
    "* Tester method evaluates code to see if it fulfills requirements\n",
    "\n",
    "### Inheritance & Subclasses\n",
    "* Method to create hierarchy between classes by inheriting from other classes\n",
    "* parent and child classes\n",
    "* extends extend a class to show its inherited and extends functionality\n",
    "* Subclass inherits all methods and fields from superclass, and constructor can be carried out from subclass\n",
    "* super refers to superclass or parent objects"
   ]
  },
  {
   "cell_type": "code",
   "execution_count": 9,
   "metadata": {},
   "outputs": [],
   "source": [
    "class Animal {\n",
    "    // methods and fields\n",
    "  }\n",
    "  \n",
    "  // use of extends keyword\n",
    "  // to perform inheritance\n",
    "  class Dog extends Animal { //dog subclass\n",
    "  \n",
    "    // methods and fields of Animal\n",
    "    // methods and fields of Dog\n",
    "  }"
   ]
  },
  {
   "cell_type": "markdown",
   "metadata": {},
   "source": [
    "### Overload & Override\n",
    "* Overload happens when there are two methods with same name but different arguments or parameters\n",
    "* Method override happens when child class has the same method that is present in a parent class, overwrites base class method\n",
    "\n",
    "### Abstract Class & Method\n",
    "* Abstract class is a restricted class that cant be used to create objects and can only access if inherited from other class\n",
    "* method can only be used in abstract class and has no implementation"
   ]
  },
  {
   "cell_type": "code",
   "execution_count": 11,
   "metadata": {},
   "outputs": [
    {
     "ename": "CompilationException",
     "evalue": "",
     "output_type": "error",
     "traceback": [
      "\u001b[1m\u001b[30m|   \u001b[1m\u001b[30m  \u001b[0m\u001b[1m\u001b[30m\u001b[41m\u001b[0m\u001b[1m\u001b[30m...\u001b[0m",
      "\u001b[1m\u001b[31millegal start of expression\u001b[0m",
      ""
     ]
    }
   ],
   "source": [
    "// create an abstract class\n",
    "abstract class Language {\n",
    "    // fields and methods\n",
    "  }\n",
    "  ...\n",
    "  \n",
    "  // try to create an object Language\n",
    "  // throws an error\n",
    "  Language obj = new Language(); "
   ]
  },
  {
   "cell_type": "code",
   "execution_count": 10,
   "metadata": {},
   "outputs": [],
   "source": [
    "abstract class Language {\n",
    "\n",
    "    // abstract method\n",
    "    abstract void method1();\n",
    "  \n",
    "    // regular method\n",
    "    void method2() {\n",
    "      System.out.println(\"This is regular method\");\n",
    "    }\n",
    "  }"
   ]
  },
  {
   "cell_type": "markdown",
   "metadata": {},
   "source": [
    "### Late Binding\n",
    "* Late binding is that compiler shouldn’t check arguments and no type checks on method call, if method names are mapped at runtime its late\n",
    "\n",
    "### Polymorphism\n",
    "* Ability of class to provide different implementations of methods, such as overloading, overriding, late binding\n",
    "\n",
    "### Big O notation\n",
    "* How long an algorithm takes to run\n",
    "* HashMap has O(1) which is same amount of time to execute\n",
    "* Binary Search has O(log N) which means it takes an additional step each time data doubles\n",
    "* Single and Nested loop is O(1)"
   ]
  },
  {
   "cell_type": "markdown",
   "metadata": {},
   "source": [
    "## Write the complete StepTracker class, including the constructor and any required instance variables and methods. Your implementation must meet all specifications and conform to the example."
   ]
  },
  {
   "cell_type": "code",
   "execution_count": null,
   "metadata": {},
   "outputs": [],
   "source": [
    "public class StepTracker\n",
    "\n",
    "{\n",
    "    private int minStepsActive; //instance variable declarations\n",
    "    private int activeDays;\n",
    "    private int days;\n",
    "    private int totalStep;\n",
    "\n",
    "    public StepTracker(int minStepsActive) //constructors with default parameters\n",
    "    { \n",
    "    this.minStepsActive= minStepsActive;\n",
    "    activeDays = 0;\n",
    "    days = 0;\n",
    "    totalSteps = 0;\n",
    "    }\n",
    "\n",
    "    //accessor method\n",
    "    public int activeDays()\n",
    "    {\n",
    "        return activeDays;\n",
    "    }\n",
    "\n",
    "    //mutator method\n",
    "    public void addDailySteps(int steps)\n",
    "    { \n",
    "        if(steps >= minStepsActive)\n",
    "            activeDays++;\n",
    "            days++;\n",
    "            totalSteps += steps;\n",
    "    }\n",
    "\n",
    "    //average steps\n",
    "\n",
    "    public double averageSteps() //used because dividing\n",
    "    {\n",
    "        if(days==0)\n",
    "            return = 0;\n",
    "\n",
    "        return totalSteps / (double)days;\n",
    "    }\n",
    "\n",
    "    public static void main(String[] args)\n",
    "    {\n",
    "        StepTracker tr = new StepTracker;\n",
    "        System.out.println(tr.activeDays())\n",
    "        tr.addDailySteps(9000);\n",
    "        tr.addDailySteps(5000);\n",
    "        System.out.println(tr.activeDays());\n",
    "        tr.addDailySteps(13000); //only active day because it holds at least 10000 steps\n",
    "        System.out.println(tr.activeDays());\n",
    "    }\n",
    "}"
   ]
  }
 ],
 "metadata": {
  "kernelspec": {
   "display_name": "Java",
   "language": "java",
   "name": "java"
  },
  "language_info": {
   "codemirror_mode": "java",
   "file_extension": ".jshell",
   "mimetype": "text/x-java-source",
   "name": "java",
   "pygments_lexer": "java",
   "version": "17.0.5+8-Ubuntu-2ubuntu122.04"
  },
  "orig_nbformat": 4
 },
 "nbformat": 4,
 "nbformat_minor": 2
}
