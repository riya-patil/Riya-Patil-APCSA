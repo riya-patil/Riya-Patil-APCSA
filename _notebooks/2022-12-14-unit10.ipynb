{
 "cells": [
  {
   "attachments": {},
   "cell_type": "markdown",
   "metadata": {},
   "source": [
    "# Unit 10 - Recursion\n",
    "- toc: true\n",
    "- categories: [fastpages, lessonhw]"
   ]
  },
  {
   "attachments": {},
   "cell_type": "markdown",
   "metadata": {},
   "source": [
    "* A recursive method is a method that calls itself - a subproblem that calls itself repeatedly\n",
    "\n",
    "Two parts to the method: \n",
    "- a base case \n",
    "- recursive call\n",
    "\n",
    "After multiple calls, the base case is reached where recursion is stopped and a value is returned\n",
    "\n",
    "Should be written first to avoid infinite recursion "
   ]
  },
  {
   "cell_type": "code",
   "execution_count": null,
   "metadata": {
    "vscode": {
     "languageId": "java"
    }
   },
   "outputs": [],
   "source": [
    "//example of base case\n",
    "int fact(int n)\n",
    "{\n",
    "    if (n < = 1) // base case\n",
    "        return 1;\n",
    "    else    \n",
    "        return n*fact(n-1);    \n",
    "}"
   ]
  },
  {
   "attachments": {},
   "cell_type": "markdown",
   "metadata": {},
   "source": [
    "### Binary Search\n",
    "* Binary search algorithm\n",
    "* Data must be in sorted order\n",
    "* Keeps halving array until value is found\n",
    "* More efficient than linear search (O(log2n) vs O(n))\n",
    "\n",
    "### Big O notation\n",
    "* How long an algorithm takes to run\n",
    "* HashMap has O(1) which is same amount of time to execute\n",
    "* Binary Search has O(log N) which means it takes an additional step each time data doubles\n",
    "* Single and Nested loop is O(1)"
   ]
  },
  {
   "cell_type": "code",
   "execution_count": 6,
   "metadata": {
    "vscode": {
     "languageId": "java"
    }
   },
   "outputs": [],
   "source": [
    "// Java Program to Illustrate Recursive Binary Search\n",
    "import java.util.*;\n",
    " \n",
    "// Main class\n",
    "class Binary {\n",
    "    // Recursive binary search\n",
    "    // Returns index of x if it is present\n",
    "    // in arr[l..r], else return -1\n",
    "    int binarySearch(int arr[], int l, int r, int x)\n",
    "    {\n",
    "        // Restrict the boundary of right index\n",
    "        // and the left index to prevent\n",
    "        // overflow of indices\n",
    "        if (r >= l && l <= arr.length - 1) {\n",
    " \n",
    "            int mid = l + (r - l) / 2;\n",
    " \n",
    "            // If the element is present\n",
    "            // at the middle itself\n",
    "            if (arr[mid] == x)\n",
    "                return mid;\n",
    " \n",
    "            // If element is smaller than mid, then it can\n",
    "            // only be present in left subarray\n",
    "            if (arr[mid] > x)\n",
    "                return binarySearch(arr, l, mid - 1, x);\n",
    " \n",
    "            // Else the element can only be present\n",
    "            // in right subarray\n",
    "            return binarySearch(arr, mid + 1, r, x);\n",
    "        }\n",
    " \n",
    "        // We reach here when element is not present in\n",
    "        // array\n",
    "        return -1;\n",
    "    }\n",
    "  \n",
    "    \n",
    "}\n"
   ]
  },
  {
   "attachments": {},
   "cell_type": "markdown",
   "metadata": {},
   "source": [
    "### Linear Recursion\n",
    "A function that only makes a single call to itself each time the function runs (as opposed to one that would call itself multiple times during its execution)\n",
    "\n",
    "* Selection Sort: The algorithm works by repeatedly finding the minimum element (considering ascending order) from the unsorted part and putting it at the end of the sorted part\n",
    "\n",
    "* Merge Sort: It divides the input array into two halves, calls itself for the two halves, and then merges the two sorted halves"
   ]
  }
 ],
 "metadata": {
  "kernelspec": {
   "display_name": "Java",
   "language": "java",
   "name": "java"
  },
  "language_info": {
   "codemirror_mode": "java",
   "file_extension": ".jshell",
   "mimetype": "text/x-java-source",
   "name": "Java",
   "pygments_lexer": "java",
   "version": "17.0.5+8-Ubuntu-2ubuntu122.04"
  },
  "orig_nbformat": 4
 },
 "nbformat": 4,
 "nbformat_minor": 2
}
