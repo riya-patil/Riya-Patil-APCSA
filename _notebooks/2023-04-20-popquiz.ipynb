{
 "cells": [
  {
   "cell_type": "code",
   "execution_count": 29,
   "metadata": {
    "vscode": {
     "languageId": "java"
    }
   },
   "outputs": [
    {
     "name": "stdout",
     "output_type": "stream",
     "text": [
      "Book title: The Book Thief; id: 0e78275a-3bb5-469a-953b-101efe2f191b\n",
      "Book title: The Midnight Library; id: 6a40689e-9e42-4460-bdf7-d2e5d3a4ad75\n",
      "Book Count: 2\n"
     ]
    }
   ],
   "source": [
    "import java.util.UUID;\n",
    "\n",
    "public class Book{\n",
    "\n",
    "    private String title;\n",
    "    private UUID id;\n",
    "    private static int bookCount = 0;\n",
    "\n",
    "    public Book(String bookTitle){\n",
    "        this.title = bookTitle;\n",
    "        id = UUID.randomUUID();\n",
    "        bookCount++;\n",
    "    }\n",
    "\n",
    "    public UUID getId() {\n",
    "        return id;\n",
    "    }\n",
    "\n",
    "    public String toString(){\n",
    "        return \"Book title: \" + title + \"; id: \" + id;\n",
    "    }\n",
    "\n",
    "   /*  public int getBookCount(){\n",
    "        return bookCount += 1;\n",
    "    }*/\n",
    "    public static int getBookCount(){\n",
    "        return bookCount;\n",
    "    }\n",
    "\n",
    "    public static void main(String[] args){\n",
    "        Book book = new Book(\"The Book Thief\");\n",
    "        Book book2 = new Book(\"The Midnight Library\");\n",
    "        System.out.println(book);\n",
    "        System.out.println(book2);\n",
    "        System.out.println(\"Book Count: \" + Book.getBookCount());\n",
    "\n",
    "        \n",
    "    }\n",
    "}\n",
    "Book.main(null);"
   ]
  },
  {
   "cell_type": "code",
   "execution_count": 25,
   "metadata": {
    "vscode": {
     "languageId": "java"
    }
   },
   "outputs": [],
   "source": [
    "public class Novel extends Book{\n",
    "    public String author;\n",
    "    \n",
    "    public Novel(String bookTitle){\n",
    "        super(bookTitle);\n",
    "    }\n",
    "\n",
    "    public String getTitle() {\n",
    "        return bookTitle;\n",
    "    }\n",
    "    public void getCOmpany(int bookTitle) {\n",
    "        this.bookTitle = bookTitle;\n",
    "    }\n",
    "    \n",
    "}"
   ]
  },
  {
   "cell_type": "code",
   "execution_count": null,
   "metadata": {
    "vscode": {
     "languageId": "java"
    }
   },
   "outputs": [],
   "source": [
    "public class Textbook extends Book{\n",
    "    public String pCompany;\n",
    "    \n",
    "    public Novel(String bookTitle){\n",
    "        super(bookTitle);\n",
    "    }\n",
    "\n",
    "    public String getCompany() {\n",
    "        return pCompany;\n",
    "    }\n",
    "    public void getCOmpany(int pCompany) {\n",
    "        this.pCompany = pCompany;\n",
    "    }\n",
    "}"
   ]
  },
  {
   "attachments": {},
   "cell_type": "markdown",
   "metadata": {},
   "source": [
    "4. make a method to count time book is checked out\n",
    "5. make a method to determine if book should come off the shelf\n",
    "6. define tester method to test items #1-#3"
   ]
  },
  {
   "cell_type": "code",
   "execution_count": 2,
   "metadata": {
    "vscode": {
     "languageId": "java"
    }
   },
   "outputs": [
    {
     "name": "stdout",
     "output_type": "stream",
     "text": [
      "Novel author: Markus Zusak\n",
      "Textbook publisher: Matt Haig\n",
      "Novel shelf life: 0.0 hours\n",
      "Textbook shelf life: -4320.0 hours\n"
     ]
    }
   ],
   "source": [
    "import java.time.LocalDateTime;\n",
    "import java.time.temporal.ChronoUnit;\n",
    "import java.util.HashMap;\n",
    "import java.util.Map;\n",
    "\n",
    "public class Book {\n",
    "    private String title;\n",
    "    private LocalDateTime createdAt;\n",
    "    private static int bookCount = 0;\n",
    "\n",
    "    public Book(String title) {\n",
    "        this.title = title;\n",
    "        this.createdAt = LocalDateTime.now();\n",
    "        bookCount++;\n",
    "    }\n",
    "\n",
    "    public LocalDateTime getCreatedAt() {\n",
    "        return createdAt;\n",
    "    }\n",
    "\n",
    "    public int getBookCount() {\n",
    "        return bookCount;\n",
    "    }\n",
    "\n",
    "    public double getShelfLife() {\n",
    "        LocalDateTime now = LocalDateTime.now();\n",
    "        long shelfLifeSeconds = ChronoUnit.SECONDS.between(createdAt, now);\n",
    "        return shelfLifeSeconds / 3600.0;\n",
    "    }\n",
    "\n",
    "    public void checkOut() {\n",
    "        // Increment checkout count\n",
    "    }\n",
    "\n",
    "    public boolean isShelfLifeOver() {\n",
    "        // Check if shelf life is over\n",
    "        return false;\n",
    "    }\n",
    "}\n",
    "\n",
    "class Novel extends Book {\n",
    "    private String author;\n",
    "    private Map<Integer, LocalDateTime> checkouts = new HashMap<>();\n",
    "\n",
    "    public Novel(String title, String author) {\n",
    "        super(title);\n",
    "        this.author = author;\n",
    "    }\n",
    "\n",
    "    public String getAuthor() {\n",
    "        return author;\n",
    "    }\n",
    "\n",
    "    public void checkout(int userId) {\n",
    "        checkouts.put(userId, LocalDateTime.now());\n",
    "    }\n",
    "\n",
    "    public double getShelfLife() {\n",
    "        double shelfLife = super.getShelfLife();\n",
    "        if (checkouts.isEmpty()) {\n",
    "            return shelfLife;\n",
    "        }\n",
    "\n",
    "        int numCheckouts = checkouts.size();\n",
    "        double totalCheckoutTime = 0;\n",
    "        for (LocalDateTime checkoutTime : checkouts.values()) {\n",
    "            long checkoutSeconds = ChronoUnit.SECONDS.between(checkoutTime, LocalDateTime.now());\n",
    "            totalCheckoutTime += checkoutSeconds / 3600.0;\n",
    "        }\n",
    "\n",
    "        return shelfLife - (totalCheckoutTime / numCheckouts);\n",
    "    }\n",
    "}\n",
    "\n",
    "class Textbook extends Book {\n",
    "    private String publishingCompany;\n",
    "    private double shelfLifeInHours;\n",
    "\n",
    "    public Textbook(String title, String publishingCompany, double shelfLifeInDays) {\n",
    "        super(title);\n",
    "        this.publishingCompany = publishingCompany;\n",
    "        this.shelfLifeInHours = shelfLifeInDays * 24;\n",
    "    }\n",
    "\n",
    "    public String getPublishingCompany() {\n",
    "        return publishingCompany;\n",
    "    }\n",
    "\n",
    "    public double getShelfLife() {\n",
    "        return super.getShelfLife() - shelfLifeInHours;\n",
    "    }\n",
    "\n",
    "    public double getShelfLifeInHours() {\n",
    "        return shelfLifeInHours;\n",
    "    }\n",
    "}\n",
    "\n",
    "public class BookTester {\n",
    "    public static void main(String[] args) {\n",
    "        Novel novel = new Novel(\"The Book Thief\", \"Markus Zusak\");\n",
    "        novel.checkout(1);\n",
    "        novel.checkout(2);\n",
    "\n",
    "        Textbook textbook = new Textbook(\"The Midnight Library\", \"Matt Haig\", 180);\n",
    "        textbook.checkOut();\n",
    "\n",
    "        System.out.println(\"Novel author: \" + novel.getAuthor());\n",
    "        System.out.println(\"Textbook publisher: \" + textbook.getPublishingCompany());\n",
    "        System.out.println(\"Novel shelf life: \" + novel.getShelfLife() + \" hours\");\n",
    "        System.out.println(\"Textbook shelf life: \" + textbook.getShelfLife() + \" hours\");\n",
    "    }\n",
    "}\n",
    "BookTester.main(null);"
   ]
  }
 ],
 "metadata": {
  "kernelspec": {
   "display_name": "Java",
   "language": "java",
   "name": "java"
  },
  "language_info": {
   "codemirror_mode": "java",
   "file_extension": ".jshell",
   "mimetype": "text/x-java-source",
   "name": "Java",
   "pygments_lexer": "java",
   "version": "17.0.5+8-Ubuntu-2ubuntu122.04"
  },
  "orig_nbformat": 4
 },
 "nbformat": 4,
 "nbformat_minor": 2
}
