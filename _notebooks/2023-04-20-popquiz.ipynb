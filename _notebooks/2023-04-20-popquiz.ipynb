{
 "cells": [
  {
   "attachments": {},
   "cell_type": "markdown",
   "metadata": {},
   "source": [
    "# Pop Quiz"
   ]
  },
  {
   "cell_type": "code",
   "execution_count": 38,
   "metadata": {
    "vscode": {
     "languageId": "java"
    }
   },
   "outputs": [
    {
     "name": "stdout",
     "output_type": "stream",
     "text": [
      "Book title: The Book Thief; id: 3d90eaaa-3033-427b-81d8-1f5bec3f876d\n",
      "Book title: The Midnight Library; id: 32d37f07-60aa-4b4b-9bbf-044269ba7d16\n",
      "Book Count: 6\n"
     ]
    }
   ],
   "source": [
    "import java.util.UUID;\n",
    "import java.time.LocalDateTime;\n",
    "\n",
    "public class Book{\n",
    "\n",
    "    private static ArrayList<Book> library = new ArrayList<Book>();\n",
    "    private String title;\n",
    "    private UUID id;\n",
    "    private static int bookCount = 0;\n",
    "    private LocalDateTime enteredLib;\n",
    "\n",
    "    public Book(String bookTitle){\n",
    "        this.title = bookTitle;\n",
    "        id = UUID.randomUUID();\n",
    "        bookCount++;\n",
    "    }\n",
    "\n",
    "    public UUID getId() {\n",
    "        return id;\n",
    "    }\n",
    "\n",
    "    public String toString(){\n",
    "        return \"Book title: \" + title + \"; id: \" + id;\n",
    "    }\n",
    "\n",
    "   /*  public int getBookCount(){\n",
    "        return bookCount += 1;\n",
    "    }*/\n",
    "    public static int getBookCount(){\n",
    "        return bookCount;\n",
    "    }\n",
    "\n",
    "\n",
    "    public static void main(String[] args){\n",
    "        Book book = new Book(\"The Book Thief\");\n",
    "        Book book2 = new Book(\"The Midnight Library\");\n",
    "        System.out.println(book);\n",
    "        System.out.println(book2);\n",
    "        System.out.println(\"Book Count: \" + Book.getBookCount());\n",
    "\n",
    "        \n",
    "    }\n",
    "}\n",
    "Book.main(null);"
   ]
  },
  {
   "cell_type": "code",
   "execution_count": 30,
   "metadata": {
    "vscode": {
     "languageId": "java"
    }
   },
   "outputs": [
    {
     "name": "stdout",
     "output_type": "stream",
     "text": [
      "Novel title: null\n",
      "Novel author: Author\n",
      "Novel time: 12\n"
     ]
    }
   ],
   "source": [
    "public class Novel extends Book{\n",
    "    public String author;\n",
    "    private int enteredLib;\n",
    "    private String bookTitle;\n",
    "    \n",
    "    public Novel(String bookTitle, String author,int enteredLib){\n",
    "        super(bookTitle);\n",
    "        this.author = author;\n",
    "        this.enteredLib = enteredLib;\n",
    "    }\n",
    "\n",
    "    public void setTitle(String bookTitle) {\n",
    "        this.bookTitle = bookTitle;\n",
    "    }\n",
    "    \n",
    "    public String getTitle() {\n",
    "        return bookTitle;\n",
    "    }\n",
    "\n",
    "\n",
    "    public String getAuthor() {\n",
    "        return author;\n",
    "    }\n",
    "\n",
    "    public int getEnteredLib() {\n",
    "        return enteredLib;\n",
    "    }\n",
    "\n",
    "    public void setEnteredLib(int enteredLib) {\n",
    "        this.enteredLib = enteredLib;\n",
    "    }\n",
    "\n",
    "    public static void main(String[] args) {\n",
    "        Novel novel = new Novel(\"This Book\", \"Author\", 12);\n",
    "\n",
    "        System.out.println(\"Novel title: \" + novel.getTitle());\n",
    "        System.out.println(\"Novel author: \" + novel.getAuthor());\n",
    "        System.out.println(\"Novel time: \" + novel.getEnteredLib());\n",
    "    }\n",
    "}\n",
    "Novel.main(null);"
   ]
  },
  {
   "cell_type": "code",
   "execution_count": 41,
   "metadata": {
    "vscode": {
     "languageId": "java"
    }
   },
   "outputs": [
    {
     "name": "stdout",
     "output_type": "stream",
     "text": [
      "Textbook title: null\n",
      "Textbook author: Company\n",
      "Textbook time: 15\n"
     ]
    }
   ],
   "source": [
    "public class Textbook extends Book{\n",
    "    public String pCompany;\n",
    "    private int enteredLib;\n",
    "    private String textbookTitle;\n",
    "    \n",
    "    public Textbook(String textbookTitle, String pCompany,int enteredLib){\n",
    "        super(textbookTitle);\n",
    "        this.pCompany = pCompany;\n",
    "        this.enteredLib = enteredLib;\n",
    "    }\n",
    "\n",
    "    public String getCompany() {\n",
    "        return pCompany;\n",
    "    }\n",
    "    public void setCompany(String pCompany) {\n",
    "        this.pCompany = pCompany;\n",
    "    }\n",
    "    public void setTitle(String textbookTitle) {\n",
    "        this.textbookTitle = textbookTitle;\n",
    "    }\n",
    "    \n",
    "    public String getTitle() {\n",
    "        return textbookTitle;\n",
    "    }\n",
    "\n",
    "    public int getEnteredLib() {\n",
    "        return enteredLib;\n",
    "    }\n",
    "\n",
    "    public void setEnteredLib(int enteredLib) {\n",
    "        this.enteredLib = enteredLib;\n",
    "    }\n",
    "\n",
    "\n",
    "    public static void main(String[] args) {\n",
    "        Textbook textbook = new Textbook(\"This Textbook\", \"Company\", 15);\n",
    "\n",
    "        System.out.println(\"Textbook title: \" + textbook.getTitle());\n",
    "        System.out.println(\"Textbook author: \" + textbook.getCompany());\n",
    "        System.out.println(\"Textbook time: \" + textbook.getEnteredLib());\n",
    "    }\n",
    "}\n",
    "Textbook.main(null);"
   ]
  }
 ],
 "metadata": {
  "kernelspec": {
   "display_name": "Java",
   "language": "java",
   "name": "java"
  },
  "language_info": {
   "codemirror_mode": "java",
   "file_extension": ".jshell",
   "mimetype": "text/x-java-source",
   "name": "Java",
   "pygments_lexer": "java",
   "version": "17.0.5+8-Ubuntu-2ubuntu122.04"
  },
  "orig_nbformat": 4
 },
 "nbformat": 4,
 "nbformat_minor": 2
}
