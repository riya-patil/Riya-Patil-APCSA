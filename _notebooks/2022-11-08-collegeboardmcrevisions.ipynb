{
 "cells": [
  {
   "cell_type": "markdown",
   "metadata": {},
   "source": [
    "# Collegeboard MC Test & Test Corrections\n",
    "\n",
    "- categories: [fastpages, learning, collegeboard]\n",
    "- comments: true\n",
    "- toc: true"
   ]
  },
  {
   "cell_type": "markdown",
   "metadata": {},
   "source": [
    "## Overall Score\n",
    "\n",
    "On this Collegeboard MC test I got a 31/40. I think that this score is semi-decent for me because I'm not used to the type of questions compsci classes offer since I didn't take CSP. I definitely think I could have done much better however, since I made a couple of silly errors while taking the test. \n",
    "\n",
    "Below are my quiz corrections:"
   ]
  },
  {
   "cell_type": "markdown",
   "metadata": {},
   "source": [
    "## Question 4\n",
    "\n",
    "For this question, I chose B) Value is 2.333333 and this was the wrong answer because the code is not using floating point division, and the integer values are not doubles. Since they are integers I would disregard the remainder and so the answer is C) Value is: 2."
   ]
  },
  {
   "cell_type": "markdown",
   "metadata": {},
   "source": [
    "## Question 9 \n",
    "\n",
    "I chose E) sum += sum + key[i]; which is the wrong answer because it adds the current sum to the sum that is produced during each iteration and cause an out of bounds once i reaches key length. Therefore the answer will be B) sum += key[i-1]; because it has indices that start at 0 and increases to key.length."
   ]
  },
  {
   "cell_type": "markdown",
   "metadata": {},
   "source": [
    "## Question 14\n",
    "\n",
    "I chose B) myVehicles[v].getMileage() which was the wrong answer because I didn't realize that v was assigned as the value of the elements of myVehicles and therefore the answer E) v.getMileage() is the correct answer because the one I chose was too convoluted."
   ]
  },
  {
   "cell_type": "markdown",
   "metadata": {},
   "source": [
    "## Question 27\n",
    "\n",
    "I chose C) 6 because I misinterpreted the question and thought it was asking for the value if x were incremented by 1. Since it iterates through the x and y until the value of n or mystery is just greater than 2, the output would be x=8 or D."
   ]
  },
  {
   "cell_type": "markdown",
   "metadata": {},
   "source": [
    "## Question 30\n",
    "\n",
    "I chose D) ilercomp because I thought that the word would complete the full loop which would be the case if the 2nd call was howFar+1 instead of just howFar. In this case, the answer would be 1 letter less than the full word, or C) ilercom."
   ]
  },
  {
   "cell_type": "markdown",
   "metadata": {},
   "source": [
    "## Question 31\n",
    "\n",
    "I chose D) 7 3 4 11 8 because I thought that the k value that was used was the 0th + 1st index, which is 7. However, this is wrong because k+1 was what it asked for, in which case the 0th index would be 5. Therefore, C is the correct answer because it starts at 5 and goes all the way to 19."
   ]
  },
  {
   "cell_type": "markdown",
   "metadata": {},
   "source": [
    "## Question 33\n",
    "\n",
    "I chose C) 12 because I misread and thought that k was increasing by 1 every time. Since k is always less than 4, the || function makes the condition always true and therefore an infinite loop will be carried out and the answer is then E."
   ]
  },
  {
   "cell_type": "markdown",
   "metadata": {},
   "source": [
    "## Question 38\n",
    "\n",
    "I choose D) as a complete guess because I didn't understand how to do the DeMorgans of the expression. However, after checking I realized that changing the or to and and adding an x>1000 on the left side will produce the same equivalent expression."
   ]
  },
  {
   "cell_type": "markdown",
   "metadata": {},
   "source": [
    "## Question 39 \n",
    " \n",
    "I chose B) because I thought that since the else condition was run, the 27 would be divided by 3 to get 9. However, that is just what the first recursive call brought as a value, and it needs to be run through again, this time running it through until recur(recur(4)) or recur(8) returns 16, which is D. "
   ]
  }
 ],
 "metadata": {
  "kernelspec": {
   "display_name": "Java",
   "language": "java",
   "name": "java"
  },
  "language_info": {
   "name": "java"
  },
  "orig_nbformat": 4
 },
 "nbformat": 4,
 "nbformat_minor": 2
}
