{
 "cells": [
  {
   "cell_type": "markdown",
   "metadata": {},
   "source": [
    "# Lesson Notes: Units 1-10\n",
    "\n",
    "Only completed notes up till unit 6 because of delayed presentations\n",
    "\n",
    "- toc: true\n",
    "- categories: [lessonhw, fastpages, learning]\n",
    "- comments: true"
   ]
  },
  {
   "cell_type": "markdown",
   "metadata": {},
   "source": [
    "### Unit 1: Primitive Types\n",
    "\n",
    "No presentation\n",
    "\n",
    "* We should use java because its widely used in industries\n",
    "* To print something, use System.out.print(); and inside the parenthesis put text in quotes (String)\n",
    "* To print with a new line, use System.out.println();\n",
    "* To comment your code, use // for single line comments and /**/ for multiple lines \n",
    "\n",
    "Hacks below:"
   ]
  },
  {
   "cell_type": "code",
   "execution_count": 1,
   "metadata": {
    "vscode": {
     "languageId": "java"
    }
   },
   "outputs": [
    {
     "name": "stdout",
     "output_type": "stream",
     "text": [
      "Riya\n",
      "Team Crimebusters\n"
     ]
    }
   ],
   "source": [
    "//Hack #1\n",
    "public class Printing {\n",
    "    public static void main(String[] args) {\n",
    "\n",
    "        System.out.println(\"Riya\"); //printing my name\n",
    "        System.out.println(\"Team Crimebusters\"); //printing my team name\n",
    "    }\n",
    "}\n",
    "\n",
    "Printing.main(null);"
   ]
  },
  {
   "cell_type": "code",
   "execution_count": 2,
   "metadata": {
    "vscode": {
     "languageId": "java"
    }
   },
   "outputs": [
    {
     "name": "stdout",
     "output_type": "stream",
     "text": [
      "Riya is cool: true\n"
     ]
    }
   ],
   "source": [
    "public class Biodata {\n",
    "\n",
    "    public static void main(String[] args) {\n",
    "        \n",
    "        final boolean cool = true;\n",
    "        String name = \"Riya is cool: \";\n",
    "\n",
    "        System.out.println(name + cool);\n",
    "\n",
    "    }\n",
    "}\n",
    "\n",
    "Biodata.main(null);"
   ]
  },
  {
   "cell_type": "markdown",
   "metadata": {},
   "source": [
    "### Unit 2: Using Objects\n",
    "\n",
    "No presentation\n",
    "\n",
    "* personal quiz 7/7 on using java objects\n",
    "* 5-7.5% of the test\n",
    "\n",
    "Declaration − A variable declaration with a variable name with an object type.\n",
    "\n",
    "Instantiation − The 'new' keyword is used to create the object.\n",
    "\n",
    "Initialization − The 'new' keyword is followed by a call to a constructor. This call initializes the new object.\n",
    "\n",
    "MATH CLASS - abs creates an absolute value around the number, and random returns an int between 0 and 1"
   ]
  },
  {
   "cell_type": "markdown",
   "metadata": {},
   "source": [
    "### Unit 3: Boolean Expressions and If Statements\n",
    "\n",
    "* our presentation about booleans and if statements\n",
    "* interactive activity - scavenger hunt with word jumble\n"
   ]
  },
  {
   "cell_type": "markdown",
   "metadata": {},
   "source": [
    "### Unit 4: Iteration\n",
    "\n",
    "* Iteration is crucial to making coding simpler and less convoluted \n",
    "* Exam weights Iteration as 17.5-22.5% of the test, with 7-9 MC and part of FRQ 1\n",
    "* WHILE LOOP: Repeats lines of code until a certain condition evaluates to false"
   ]
  },
  {
   "cell_type": "code",
   "execution_count": null,
   "metadata": {
    "vscode": {
     "languageId": "java"
    }
   },
   "outputs": [],
   "source": [
    "public class WhileLoops { //hack 1\n",
    "    int x = 5,450,000;\n",
    "    public static void main(String[] args) {\n",
    "        while(x <= 30,000,000) {\n",
    "            x += x * 1.05; //increase by 5% each time through\n",
    "            return x;\n",
    "        }\n",
    "    }\n",
    "}\n",
    "\n",
    "WhileLoops.main(null);"
   ]
  },
  {
   "cell_type": "markdown",
   "metadata": {},
   "source": [
    "FOR LOOPS\n",
    "* the test condition is checked each time through the loop and the loop continues as long as the condition is true\n",
    "* the loop control variable change is done at the end of each execution of the body of the loop\n",
    "* When the loop condition is false, execution will continue at the next statement after the body of the loop."
   ]
  },
  {
   "cell_type": "code",
   "execution_count": 3,
   "metadata": {
    "vscode": {
     "languageId": "java"
    }
   },
   "outputs": [
    {
     "name": "stdout",
     "output_type": "stream",
     "text": [
      "10\n",
      "11\n",
      "12\n",
      "13\n",
      "14\n",
      "15\n"
     ]
    }
   ],
   "source": [
    "public class ForLoops { //hack 2\n",
    "\n",
    "    public static void main(String[] args) {\n",
    "        for (int x = 10; x <= 15; x++) { //for loop iteration\n",
    "            System.out.println(x);\n",
    "        } \n",
    "    }\n",
    "}\n",
    "ForLoops.main(null);"
   ]
  },
  {
   "cell_type": "markdown",
   "metadata": {},
   "source": [
    "### Unit 5: Writing Classes\n",
    "* class plan for create objects\n",
    "* object is the instances of a class\n",
    "* public  mens anyone can access while private means that there is restricted access\n",
    "* constructors - initialize instance variables when object is called\n",
    "* set an initial object state and initial instance variables\n",
    "\n",
    "There are 3 steps to creating and calling methods:\n",
    "\n",
    "1) declare object of the class in the main method\n",
    "2) call the method \n",
    "3) write the method header and body"
   ]
  },
  {
   "cell_type": "markdown",
   "metadata": {},
   "source": [
    "### Unit 6: Array\n",
    "\n",
    "* Fixed length: Once an array is created, we cannot change its size. So consider using arrays when the numbers of elements are known and fixed. Otherwise, you should consider using another dynamic container such as ArrayList.\n",
    "* It’s very fast to access any elements in an array (by index of the elements) in constant time: accessing the 1st element takes same time as accessing the last element. So performance is another factor when choosing arrays.\n",
    "* An array can hold primitives or objects, stores values of the primitives.\n",
    "* An array of objects stores only the references to the objects.\n",
    "* In Java, the position of an element is specified by index which is zero-based. That means the first element is at index 0, the second element at index 1, and so on.\n",
    "* An array itself is actually an object."
   ]
  },
  {
   "cell_type": "code",
   "execution_count": 4,
   "metadata": {
    "vscode": {
     "languageId": "java"
    }
   },
   "outputs": [
    {
     "name": "stdout",
     "output_type": "stream",
     "text": [
      "2\n",
      "6\n",
      "10\n"
     ]
    }
   ],
   "source": [
    "//Hack 1\n",
    "int[] arrayOne = {2, 4, 6, 8, 10, 12};\n",
    "for (int i = 0; i < arrayOne.length; i+=2) { // if smaller than array length then increments by 2\n",
    "    System.out.println(arrayOne[i]); //prints array\n",
    "}"
   ]
  },
  {
   "cell_type": "code",
   "execution_count": 5,
   "metadata": {
    "vscode": {
     "languageId": "java"
    }
   },
   "outputs": [
    {
     "name": "stdout",
     "output_type": "stream",
     "text": [
      "1\n",
      "2\n",
      "3\n",
      "4\n",
      "5\n"
     ]
    }
   ],
   "source": [
    "//Hack 2\n",
    "int[] myNumbers = new int[] {4, 5, 3, 1, 2}; //jumbled array\n",
    "int i = 0; \n",
    "int min = 0; \n",
    "public void arraySorter(int[] array) {\n",
    "    for (int i = 1; i < array.length+1; i++) { //sorts in order\n",
    "        for (int j = 0; j < array.length; j++) {\n",
    "            if (i == array[j]) {\n",
    "                System.out.println(i); \n",
    "            }\n",
    "        }\n",
    "    }\n",
    "}\n",
    "\n",
    "arraySorter(myNumbers);"
   ]
  }
 ],
 "metadata": {
  "kernelspec": {
   "display_name": "Java",
   "language": "java",
   "name": "java"
  },
  "language_info": {
   "codemirror_mode": "java",
   "file_extension": ".jshell",
   "mimetype": "text/x-java-source",
   "name": "Java",
   "pygments_lexer": "java",
   "version": "11.0.16+8-post-Ubuntu-0ubuntu122.04"
  },
  "orig_nbformat": 4,
  "vscode": {
   "interpreter": {
    "hash": "916dbcbb3f70747c44a77c7bcd40155683ae19c65e1c03b4aa3499c5328201f1"
   }
  }
 },
 "nbformat": 4,
 "nbformat_minor": 2
}
