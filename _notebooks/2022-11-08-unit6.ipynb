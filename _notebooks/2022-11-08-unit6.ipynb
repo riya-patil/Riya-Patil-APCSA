{
 "cells": [
  {
   "cell_type": "markdown",
   "metadata": {},
   "source": [
    "# Unit 6 HW - FRQ part A\n",
    "- toc: true\n",
    "- categories: [lessonhw, learning]\n",
    "- comments: true"
   ]
  },
  {
   "cell_type": "markdown",
   "metadata": {},
   "source": [
    "a) Write the ClubMembers method addMembers, which takes two parameters. The first parameter is\n",
    "a String array containing the names of new club members to be added. The second parameter is the\n",
    "graduation year of all the new club members. The method adds the new members to the memberList\n",
    "instance variable. The names can be added in any order. All members added are initially in good\n",
    "standing and share the same graduation year, gradYear. "
   ]
  },
  {
   "cell_type": "code",
   "execution_count": null,
   "metadata": {},
   "outputs": [],
   "source": [
    "public void addMembers(String[] names, int graduationYear) {\n",
    "    //string that includes the names - 1st parameter\n",
    "    //int that contains the grad year - 2nd parameter\n",
    "    \n",
    "    for (int i = 0; i<names.length; i++) { //repeats for as many letters are in the name\n",
    "      memberList.add(new Member(names[i], graduationYear, true));\n",
    "      //adds the names and grad year to the member list for each member\n",
    "\n",
    "      return memberList; //this could possibly be names\n",
    "    }\n",
    "  }"
   ]
  }
 ],
 "metadata": {
  "kernelspec": {
   "display_name": "Java",
   "language": "java",
   "name": "java"
  },
  "language_info": {
   "name": "java"
  },
  "orig_nbformat": 4
 },
 "nbformat": 4,
 "nbformat_minor": 2
}
