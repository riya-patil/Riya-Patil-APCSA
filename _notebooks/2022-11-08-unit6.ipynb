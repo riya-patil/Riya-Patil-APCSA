{
 "cells": [
  {
   "cell_type": "markdown",
   "metadata": {},
   "source": [
    "# Unit 6 HW - FRQ part A\n",
    "- toc: true\n",
    "- categories: [lessonhw, learning]\n",
    "- comments: true"
   ]
  },
  {
   "cell_type": "markdown",
   "metadata": {},
   "source": [
    "* Fixed length: Once an array is created, we cannot change its size. So consider using arrays when the numbers of elements are known and fixed. Otherwise, you should consider using another dynamic container such as ArrayList.\n",
    "* It’s very fast to access any elements in an array (by index of the elements) in constant time: accessing the 1st element takes same time as accessing the last element. So performance is another factor when choosing arrays.\n",
    "* An array can hold primitives or objects, stores values of the primitives.\n",
    "* An array of objects stores only the references to the objects.\n",
    "* In Java, the position of an element is specified by index which is zero-based. That means the first element is at index 0, the second element at index 1, and so on.\n",
    "* An array itself is actually an object."
   ]
  },
  {
   "cell_type": "code",
   "execution_count": 2,
   "metadata": {},
   "outputs": [
    {
     "name": "stdout",
     "output_type": "stream",
     "text": [
      "2\n",
      "6\n",
      "10\n"
     ]
    }
   ],
   "source": [
    "//Hack 1\n",
    "int[] arrayOne = {2, 4, 6, 8, 10, 12};\n",
    "for (int i = 0; i < arrayOne.length; i+=2) { // if smaller than array length then increments by 2\n",
    "    System.out.println(arrayOne[i]); //prints array\n",
    "}"
   ]
  },
  {
   "cell_type": "code",
   "execution_count": 1,
   "metadata": {},
   "outputs": [
    {
     "name": "stdout",
     "output_type": "stream",
     "text": [
      "1\n",
      "2\n",
      "3\n",
      "4\n",
      "5\n"
     ]
    }
   ],
   "source": [
    "//Hack 2\n",
    "int[] myNumbers = new int[] {4, 5, 3, 1, 2}; //jumbled array\n",
    "int i = 0;\n",
    "int min = 0;\n",
    "public void arraySorter(int[] array) {\n",
    "    for (int i = 1; i < array.length+1; i++) { //sorts in order\n",
    "        for (int j = 0; j < array.length; j++) {\n",
    "            if (i == array[j]) {\n",
    "                System.out.println(i);\n",
    "            }\n",
    "        }\n",
    "    }\n",
    "}\n",
    " \n",
    "arraySorter(myNumbers);"
   ]
  },
  {
   "cell_type": "markdown",
   "metadata": {},
   "source": [
    "a) Write the ClubMembers method addMembers, which takes two parameters. The first parameter is\n",
    "a String array containing the names of new club members to be added. The second parameter is the\n",
    "graduation year of all the new club members. The method adds the new members to the memberList\n",
    "instance variable. The names can be added in any order. All members added are initially in good\n",
    "standing and share the same graduation year, gradYear. "
   ]
  },
  {
   "cell_type": "code",
   "execution_count": null,
   "metadata": {},
   "outputs": [],
   "source": [
    "public void addMembers(String[] names, int graduationYear) {\n",
    "    //string that includes the names - 1st parameter\n",
    "    //int that contains the grad year - 2nd parameter\n",
    "    \n",
    "    for (int i = 0; i<names.length; i++) { //repeats for as many letters are in the name\n",
    "      memberList.add(new Member(names[i], graduationYear, true));\n",
    "      //adds the names and grad year to the member list for each member\n",
    "\n",
    "      return memberList; //this could possibly be names\n",
    "    }\n",
    "  }"
   ]
  }
 ],
 "metadata": {
  "kernelspec": {
   "display_name": "Java",
   "language": "java",
   "name": "java"
  },
  "language_info": {
   "codemirror_mode": "java",
   "file_extension": ".jshell",
   "mimetype": "text/x-java-source",
   "name": "java",
   "pygments_lexer": "java",
   "version": "11.0.16+8-post-Ubuntu-0ubuntu122.04"
  },
  "orig_nbformat": 4
 },
 "nbformat": 4,
 "nbformat_minor": 2
}
