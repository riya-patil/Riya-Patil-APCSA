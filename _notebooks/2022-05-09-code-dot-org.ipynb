{
 "cells": [
  {
   "cell_type": "markdown",
   "metadata": {},
   "source": [
    "# Code.org Takeaways \n",
    "\n",
    "Things that I learned from the Code.org Lessons 5-15\n",
    "\n",
    "- toc: true\n",
    "- comments: true\n",
    "- badges: true\n",
    "- categories: [fastpages, jupyter]"
   ]
  },
  {
   "cell_type": "markdown",
   "metadata": {},
   "source": [
    "> Creating a New Object\n",
    "Instantiating a new object --> creating a new Painter object"
   ]
  },
  {
   "cell_type": "code",
   "execution_count": null,
   "metadata": {},
   "outputs": [],
   "source": [
    "//instantiates the Painter object by creating a new object\n",
    "Painter myPainter = new Painter();"
   ]
  },
  {
   "cell_type": "markdown",
   "metadata": {},
   "source": [
    "> Using Objects\n",
    "Object calls the method and runs the code"
   ]
  },
  {
   "cell_type": "code",
   "execution_count": null,
   "metadata": {},
   "outputs": [],
   "source": [
    "//calls method of making Painter move or pick up paint\n",
    "myPainter.moveSouth();"
   ]
  },
  {
   "cell_type": "markdown",
   "metadata": {},
   "source": [
    "> Extends\n",
    "Subclass extends Superclass\n",
    "Class is inherited from another class (ex: Taco class is inherited from Food class)"
   ]
  },
  {
   "cell_type": "code",
   "execution_count": null,
   "metadata": {},
   "outputs": [],
   "source": [
    "import org.code.neighborhood.Painter;\n",
    "\n",
    " //PainterPlus is a subclass of Painter\n",
    "public class PainterPlus extends Painter {\n",
    "  public PainterPlus() {\n",
    "    super();  // Calls superclass\n",
    "  }\n",
    "  //action done by class\n",
    "  public void turnRight() {\n",
    "    turnLeft();\n",
    "    turnLeft();\n",
    "    turnLeft();\n",
    "  }\n",
    "  \n",
    "}"
   ]
  }
 ],
 "metadata": {
  "kernelspec": {
   "display_name": "Java",
   "language": "java",
   "name": "java"
  },
  "language_info": {
   "name": "java"
  },
  "orig_nbformat": 4
 },
 "nbformat": 4,
 "nbformat_minor": 2
}
