{
 "cells": [
  {
   "cell_type": "markdown",
   "metadata": {},
   "source": [
    "# Boolean and If Statements Lesson\n",
    "Lesson on booleans, ifs, switches, and control structures in Java.\n",
    "- toc: true\n",
    "- categories: [fastpages, learning]\n",
    "- comments: true"
   ]
  },
  {
   "cell_type": "markdown",
   "metadata": {},
   "source": [
    "## If Statements\n",
    "If statements are run if the function is true to a particular condition. For a code to execute, the condition must be true."
   ]
  },
  {
   "cell_type": "code",
   "execution_count": 2,
   "metadata": {
    "vscode": {
     "languageId": "java"
    }
   },
   "outputs": [
    {
     "name": "stdout",
     "output_type": "stream",
     "text": [
      "20 is greater than 18.\n"
     ]
    }
   ],
   "source": [
    "int x = 20; // the integer given in the variable is 20\n",
    "if (x > 18) { //since this condition is true, the statement will print\n",
    "    System.out.println(x+\" is greater than 18.\");\n",
    "  } "
   ]
  },
  {
   "cell_type": "markdown",
   "metadata": {},
   "source": [
    "## If-Else Statement\n",
    "If-else statements are run if one condition is met. If that condition is not met however, it will perform another specified action under the else part of the conditional."
   ]
  },
  {
   "cell_type": "code",
   "execution_count": 4,
   "metadata": {
    "vscode": {
     "languageId": "java"
    }
   },
   "outputs": [
    {
     "name": "stdout",
     "output_type": "stream",
     "text": [
      "8 is less than 18.\n"
     ]
    }
   ],
   "source": [
    "int x = 8; // the integer given in the variable is 20\n",
    "if (x > 18) { //since this condition is true, the statement will print\n",
    "    System.out.println(x+\" is greater than 18.\");\n",
    "  } \n",
    "else { //this is what will print if the \"if\" statement is false\n",
    "    System.out.println(x+ \" is less than 18.\");\n",
    "}"
   ]
  },
  {
   "cell_type": "markdown",
   "metadata": {},
   "source": [
    "## If-Elseif-Else\n",
    "This function runs if the first condition is met, and if that condition is not true, it will check if the next else-if condition is met. This can be done any number of times, and if those conditions are all not met, the else is run."
   ]
  },
  {
   "cell_type": "code",
   "execution_count": 5,
   "metadata": {
    "vscode": {
     "languageId": "java"
    }
   },
   "outputs": [
    {
     "name": "stdout",
     "output_type": "stream",
     "text": [
      "8 is smaller than 9.\n"
     ]
    }
   ],
   "source": [
    "int x = 8; // the integer given in the variable is 20\n",
    "if (x > 18) { //since this condition is true, the statement will print\n",
    "    System.out.println(x+\" is greater than 18.\");\n",
    "  } \n",
    "else if (x>9) { //this is what will print if the \"if\" statement is false\n",
    "    System.out.println(x+ \" is greater than 9.\");\n",
    "}\n",
    "else{\n",
    "    System.out.println(x+\" is smaller than 9.\"); //what will print if nothing above is true\n",
    "}"
   ]
  },
  {
   "cell_type": "markdown",
   "metadata": {},
   "source": [
    "## Switch Case\n",
    "A switch case is when the if-elseif-else condition is repeated a numerous amount of times, with more elseif statements that checks different conditions. "
   ]
  },
  {
   "cell_type": "code",
   "execution_count": 7,
   "metadata": {
    "vscode": {
     "languageId": "java"
    }
   },
   "outputs": [
    {
     "name": "stdout",
     "output_type": "stream",
     "text": [
      "13 is greater than 12\n"
     ]
    }
   ],
   "source": [
    "int x = 13; // the integer given in the variable is 20\n",
    "if (x > 18) { //since this condition is true, the statement will print\n",
    "    System.out.println(x+\" is greater than 18.\");\n",
    "  } \n",
    "else if (x>16) { //this is what will print if the \"if\" statement is false\n",
    "    System.out.println(x+ \" is greater than 16.\");\n",
    "}\n",
    "else if (x>14) {\n",
    "    System.out.println(x+\" is greater than 14\"); \n",
    "}\n",
    "else if (x>12) {\n",
    "    System.out.println(x+\" is greater than 12\"); \n",
    "}\n",
    "else{\n",
    "    System.out.println(x+\" is smaller than 12.\"); //what will print if nothing above is true\n",
    "}"
   ]
  },
  {
   "cell_type": "markdown",
   "metadata": {},
   "source": [
    "You can write this as a switch case."
   ]
  },
  {
   "cell_type": "code",
   "execution_count": 13,
   "metadata": {
    "vscode": {
     "languageId": "java"
    }
   },
   "outputs": [
    {
     "name": "stdout",
     "output_type": "stream",
     "text": [
      "13 is equal to 13\n"
     ]
    }
   ],
   "source": [
    "int x = 13; // the integer given in the variable is 20\n",
    "String output;\n",
    "switch (x) { \n",
    "    case 10:\n",
    "        output = x + \" is equal to 10\";\n",
    "        break;\n",
    "    case 11:\n",
    "        output = x + \" is equal to 11\";\n",
    "        break;\n",
    "    case 12:\n",
    "        output = x + \" is equal to 12\";\n",
    "        break;\n",
    "    case 13:\n",
    "        output = x + \" is equal to 13\";\n",
    "        break;\n",
    "}\n",
    "System.out.println(output);"
   ]
  },
  {
   "cell_type": "markdown",
   "metadata": {},
   "source": [
    "## De Morgans Law\n",
    "This law says that \"the complement of two union sets is the intersection of their complements\". It means that saying \"not __ and __\" is the same as saying those statements separately. "
   ]
  },
  {
   "cell_type": "code",
   "execution_count": 15,
   "metadata": {
    "vscode": {
     "languageId": "java"
    }
   },
   "outputs": [
    {
     "name": "stdout",
     "output_type": "stream",
     "text": [
      "I like chocolate and vanilla\n"
     ]
    }
   ],
   "source": [
    "boolean vanilla = true;\n",
    "boolean chocolate = true;\n",
    "\n",
    "if (!(chocolate && vanilla)){\n",
    "    System.out.println(\"I do not like chocolate or vanilla\");\n",
    "}\n",
    "else{\n",
    "    System.out.println(\"I like chocolate and vanilla\");\n",
    "}"
   ]
  },
  {
   "cell_type": "code",
   "execution_count": 17,
   "metadata": {
    "vscode": {
     "languageId": "java"
    }
   },
   "outputs": [
    {
     "name": "stdout",
     "output_type": "stream",
     "text": [
      "I like chocolate and vanilla\n"
     ]
    }
   ],
   "source": [
    "if (!chocolate || !vanilla){\n",
    "    System.out.println(\"I do not like chocolate or vanilla\");\n",
    "}\n",
    "else{\n",
    "    System.out.println(\"I like chocolate and vanilla\");\n",
    "}"
   ]
  },
  {
   "cell_type": "markdown",
   "metadata": {},
   "source": [
    "Both the statements have the same output."
   ]
  }
 ],
 "metadata": {
  "kernelspec": {
   "display_name": "Java",
   "language": "java",
   "name": "java"
  },
  "language_info": {
   "codemirror_mode": "java",
   "file_extension": ".jshell",
   "mimetype": "text/x-java-source",
   "name": "Java",
   "pygments_lexer": "java",
   "version": "11.0.16+8-post-Ubuntu-0ubuntu122.04"
  },
  "orig_nbformat": 4
 },
 "nbformat": 4,
 "nbformat_minor": 2
}
