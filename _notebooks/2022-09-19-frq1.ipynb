{
 "cells": [
  {
   "cell_type": "markdown",
   "metadata": {},
   "source": [
    "# FRQ 1 - 2018\n",
    "\n",
    "- toc: true\n",
    "- comments: true\n",
    "- categories: [jupyter, learning]"
   ]
  },
  {
   "cell_type": "markdown",
   "metadata": {},
   "source": [
    "## Part A\n",
    "\n",
    "(a) Write the simulate method, which simulates the frog attempting to hop in a straight line to a goal from\n",
    "the frog's starting position of 0 within a maximum number of hops. The method returns true if the frog\n",
    "successfully reached the goal within the maximum number of hops; otherwise, the method returns false.\n",
    "The FrogSimulation class provides a method called hopDistance that returns an integer\n",
    "representing the distance (positive or negative) to be moved when the frog hops. A positive distance\n",
    "represents a move toward the goal. A negative distance represents a move away from the goal. The returned\n",
    "distance may vary from call to call. Each time the frog hops, its position is adjusted by the value returned by\n",
    "a call to the hopDistance method.\n",
    "The frog hops until one of the following conditions becomes true:\n",
    "• The frog has reached or passed the goal.\n",
    "• The frog has reached a negative position.\n",
    "• The frog has taken the maximum number of hops without reaching the goal\n",
    "\n",
    "Intent: Simulate the distance traveled by a hopping frog\n",
    "+1 Calls hopDistance and uses returned distance to adjust (or represent) the frog’s position\n",
    "+1 Initializes and accumulates the frog’s position at most maxHops times (must be in context of a loop)\n",
    "+1 Determines if a distance representing multiple hops is at least goalDistance\n",
    "+1 Determines if a distance representing multiple hops is less than starting position\n",
    "+1 Returns true if goal ever reached, false if goal never reached or position ever less than starting position"
   ]
  },
  {
   "cell_type": "code",
   "execution_count": null,
   "metadata": {
    "vscode": {
     "languageId": "java"
    }
   },
   "outputs": [],
   "source": [
    "public class FrogSimulation\n",
    "{\n",
    " \n",
    "    public boolean simulate() {\n",
    "        int distance = 0;\n",
    "        for(int i=0; i<maxHops; i++) {\n",
    "            distance += hopDistance();\n",
    "            if(distance<goalDistance){\n",
    "                return false;\n",
    "            }\n",
    "            if(distance>=goalDistance){\n",
    "                return true;\n",
    "            }\n",
    "        }\n",
    "    }\n",
    "    return false;\n",
    "    }"
   ]
  },
  {
   "cell_type": "markdown",
   "metadata": {},
   "source": [
    "## Part B\n",
    "Complete method simulate below. You must use hopDistance appropriately to receive full credit.\n",
    "* Simulates a frog attempting to reach the goal as described in part (a).\n",
    "* Returns true if the frog successfully reached or passed the goal during the simulation;\n",
    "* false otherwise. "
   ]
  },
  {
   "cell_type": "code",
   "execution_count": null,
   "metadata": {
    "vscode": {
     "languageId": "java"
    }
   },
   "outputs": [],
   "source": [
    "public class FrogSimulation\n",
    "{ \n",
    "    public boolean simulate() {\n",
    "    int distance = 0;\n",
    "    int goal = goalDistance;\n",
    "    \n",
    "    for(int i=0; i<maxHops; i++) {\n",
    "        distance += hopDistance();\n",
    "        if(distance>=goalDistance){\n",
    "            return true;\n",
    "        }\n",
    "        else {\n",
    "            return false;\n",
    "        }\n",
    "}"
   ]
  }
 ],
 "metadata": {
  "kernelspec": {
   "display_name": "Java",
   "language": "java",
   "name": "java"
  },
  "language_info": {
   "codemirror_mode": "java",
   "file_extension": ".jshell",
   "mimetype": "text/x-java-source",
   "name": "Java",
   "pygments_lexer": "java",
   "version": "11.0.16+8-post-Ubuntu-0ubuntu122.04"
  },
  "orig_nbformat": 4
 },
 "nbformat": 4,
 "nbformat_minor": 2
}
