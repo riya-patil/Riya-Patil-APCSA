{
 "cells": [
  {
   "attachments": {},
   "cell_type": "markdown",
   "metadata": {},
   "source": [
    "# Merge Sort Hack\n",
    "Hack #1"
   ]
  },
  {
   "cell_type": "code",
   "execution_count": 9,
   "metadata": {
    "vscode": {
     "languageId": "java"
    }
   },
   "outputs": [
    {
     "name": "stdout",
     "output_type": "stream",
     "text": [
      "Given Array\n",
      "f c e d b a \n",
      "\n",
      "Sorted array\n",
      "a b c d e f \n"
     ]
    }
   ],
   "source": [
    "class StringArr {\n",
    "    // Merges two subarrays of arr[].\n",
    "    // First subarray is arr[l..m]\n",
    "    // Second subarray is arr[m+1..r]\n",
    "    void merge(String arr[], int l, int m, int r) {\n",
    "        // Find the sizes of two subarrays to be merged\n",
    "        int n1 = m - l + 1;\n",
    "        int n2 = r - m;\n",
    "\n",
    "        /* Create temp arrays */\n",
    "        String[] L = new String[n1];\n",
    "        String[] R = new String[n2];\n",
    "\n",
    "        /* Copy data to temp arrays */\n",
    "        for (int i = 0; i < n1; ++i)\n",
    "            L[i] = arr[l + i];\n",
    "        for (int j = 0; j < n2; ++j)\n",
    "            R[j] = arr[m + 1 + j];\n",
    "\n",
    "        /* Merge the temp arrays */\n",
    "\n",
    "        // Initial indexes of first and second subarrays\n",
    "        int i = 0, j = 0;\n",
    "\n",
    "        // Initial index of merged subarray array\n",
    "        int k = l;\n",
    "        while (i < n1 && j < n2) {\n",
    "            if (L[i].compareTo(R[j]) <= 0) { \n",
    "                //use of compareTo for strings\n",
    "                arr[k] = L[i];\n",
    "                i++;\n",
    "            } else {\n",
    "                arr[k] = R[j];\n",
    "                j++;\n",
    "            }\n",
    "            k++;\n",
    "        }\n",
    "\n",
    "        /* Copy remaining elements of L[] if any */\n",
    "        while (i < n1) {\n",
    "            arr[k] = L[i];\n",
    "            i++;\n",
    "            k++;\n",
    "        }\n",
    "\n",
    "        /* Copy remaining elements of R[] if any */\n",
    "        while (j < n2) {\n",
    "            arr[k] = R[j];\n",
    "            j++;\n",
    "            k++;\n",
    "        }\n",
    "    }\n",
    "\n",
    "    // Main function that sorts arr[l..r] using\n",
    "    // merge()\n",
    "    void sort(String[] arr, int l, int r) {\n",
    "        if (l < r) {\n",
    "            \n",
    "            int m = l + (r - l) / 2;\n",
    "\n",
    "            \n",
    "            sort(arr, l, m);\n",
    "            sort(arr, m + 1, r);\n",
    "\n",
    "            \n",
    "            merge(arr, l, m, r);\n",
    "        }\n",
    "    }\n",
    "\n",
    "    /* A utility function to print array of size n */\n",
    "    static void printArray(String[] arr) {\n",
    "        int n = arr.length;\n",
    "        for (int i = 0; i < n; ++i)\n",
    "            System.out.print(arr[i] + \" \");\n",
    "        System.out.println();\n",
    "    }\n",
    "\n",
    "    // tester method\n",
    "    public static void main(String args[]) {\n",
    "        String[] arr = { \"f\", \"c\", \"e\", \"d\", \"b\", \"a\" };\n",
    "\n",
    "        System.out.println(\"Given Array\");\n",
    "        printArray(arr);\n",
    "\n",
    "        Main ob = new Main();\n",
    "        ob.sort(arr, 0, arr.length - 1);\n",
    "\n",
    "        System.out.println();\n",
    "        System.out.println(\"Sorted array\");\n",
    "        printArray(arr);\n",
    "    }\n",
    "}\n",
    "StringArr.main(null);"
   ]
  }
 ],
 "metadata": {
  "kernelspec": {
   "display_name": "Java",
   "language": "java",
   "name": "java"
  },
  "language_info": {
   "codemirror_mode": "java",
   "file_extension": ".jshell",
   "mimetype": "text/x-java-source",
   "name": "Java",
   "pygments_lexer": "java",
   "version": "17.0.5+8-Ubuntu-2ubuntu122.04"
  },
  "orig_nbformat": 4
 },
 "nbformat": 4,
 "nbformat_minor": 2
}
