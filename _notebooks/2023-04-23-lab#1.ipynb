{
 "cells": [
  {
   "attachments": {},
   "cell_type": "markdown",
   "metadata": {},
   "source": [
    "# Merge Sort Hack\n",
    "Hack #1"
   ]
  },
  {
   "cell_type": "code",
   "execution_count": 6,
   "metadata": {
    "vscode": {
     "languageId": "java"
    }
   },
   "outputs": [
    {
     "name": "stdout",
     "output_type": "stream",
     "text": [
      "Unsorted Array:\n",
      "banana apple cherry grape fig date \n",
      "\n",
      "Sorted Array:\n",
      "apple banana cherry date fig grape \n"
     ]
    }
   ],
   "source": [
    "class StringArr {\n",
    "    // Recursive - merge sort\n",
    "    public void mergeSort(String[] arr) {\n",
    "        int n = arr.length;\n",
    "        if (n > 1) {\n",
    "\n",
    "            // left and right halves\n",
    "            String[] left = new String[n / 2];\n",
    "            String[] right = new String[n - n / 2];\n",
    "            System.arraycopy(arr, 0, left, 0, left.length);\n",
    "            System.arraycopy(arr, left.length, right, 0, right.length);\n",
    "\n",
    "            // Recursively calls sort on left and right halves until n=1\n",
    "            mergeSort(left);\n",
    "            mergeSort(right);\n",
    "\n",
    "            // Merge the sorted left and right halves into the original array\n",
    "            int i = 0;\n",
    "            int j = 0;\n",
    "            for (int k = 0; k < n; k++) {\n",
    "                if (j >= right.length || (i < left.length && left[i].compareTo(right[j]) <= 0)) {\n",
    "                    arr[k] = left[i];\n",
    "                    i++;\n",
    "                } else {\n",
    "                    arr[k] = right[j];\n",
    "                    j++;\n",
    "                }\n",
    "            }\n",
    "        }\n",
    "    }\n",
    "\n",
    "    // Method to print out the contents of an array of strings\n",
    "    void printArray(String[] arr) {\n",
    "        for (String element : arr) {\n",
    "            System.out.print(element + \" \");\n",
    "        }\n",
    "        System.out.println();\n",
    "    }\n",
    "\n",
    "    public static void main(String[] args) {\n",
    "        // Test case\n",
    "        String[] arr = { \"banana\", \"apple\", \"cherry\", \"grape\", \"fig\", \"date\" };\n",
    "        StringArr sorter = new StringArr();\n",
    "\n",
    "        System.out.println(\"Unsorted Array:\");\n",
    "        sorter.printArray(arr);\n",
    "\n",
    "        // Sort the array using merge sort\n",
    "        sorter.mergeSort(arr);\n",
    "\n",
    "        System.out.println(\"\\nSorted Array:\");\n",
    "        sorter.printArray(arr);\n",
    "    }\n",
    "}\n",
    "StringArr.main(null);"
   ]
  }
 ],
 "metadata": {
  "kernelspec": {
   "display_name": "Java",
   "language": "java",
   "name": "java"
  },
  "language_info": {
   "codemirror_mode": "java",
   "file_extension": ".jshell",
   "mimetype": "text/x-java-source",
   "name": "Java",
   "pygments_lexer": "java",
   "version": "17.0.5+8-Ubuntu-2ubuntu122.04"
  },
  "orig_nbformat": 4
 },
 "nbformat": 4,
 "nbformat_minor": 2
}
