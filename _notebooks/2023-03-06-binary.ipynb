{
 "cells": [
  {
   "attachments": {},
   "cell_type": "markdown",
   "metadata": {},
   "source": [
    "# Data Types"
   ]
  },
  {
   "cell_type": "code",
   "execution_count": 16,
   "metadata": {},
   "outputs": [
    {
     "name": "stdout",
     "output_type": "stream",
     "text": [
      "1 + 1 = 10"
     ]
    }
   ],
   "source": [
    "import java.util.Scanner;\n",
    "public class BinaryAdd {\n",
    "   public static void main(String[] args)\n",
    "   {\n",
    "\t//Two variables \t \n",
    "\tint b = 0, c = 0;\n",
    "\n",
    "\t//This is to hold the output binary number\n",
    "\tint[] add = new int[10];\n",
    "\n",
    "\n",
    "\tint b1 = 1;\n",
    "\tint b2 = 1;\n",
    "\n",
    "\t//while the ints are not 0, code uses mod\n",
    "    //carry moves the 1+1 over and outputs 10\n",
    "\twhile (b1 != 0 || b2 != 0) \n",
    "\t{\n",
    "\t\tadd[b++] = (int)((b1 % 2 + b2 % 2 + c) % 2);\n",
    "\t\tc = (int)((b1 % 2 + b2 % 2 + c) / 2);\n",
    "\t\tb1 = b1 / 2;\n",
    "\t\tb2 = b2 / 2;\n",
    "\t}\n",
    "\tif (c != 0) {\n",
    "\t\tadd[b++] = c;\n",
    "\t}\n",
    "\t--b;\n",
    "\tSystem.out.print(\"1 + 1 = \");\n",
    "\twhile (b >= 0) {\n",
    "\t\tSystem.out.print(add[b--]);\n",
    "\t} \n",
    "   }\n",
    "}\n",
    "BinaryAdd.main(null);"
   ]
  },
  {
   "cell_type": "code",
   "execution_count": 6,
   "metadata": {},
   "outputs": [
    {
     "name": "stdout",
     "output_type": "stream",
     "text": [
      "Main method before changeInt(n): n = 5\n",
      "In changeInt method\n",
      "\tBefore n += 10: n = 5\n",
      "\tAfter n += 10: n = 15\n",
      "Main method after changeInt(n): n = 5\n"
     ]
    }
   ],
   "source": [
    "//pass by value\n",
    "public class IntByValue {\n",
    "    \n",
    "    public static void changeInt(int n) {\n",
    "        System.out.println(\"In changeInt method\");\n",
    "        System.out.println(\"\\tBefore n += 10: n = \" + n); // prints 5\n",
    "        n = n += 10;\n",
    "        System.out.println(\"\\tAfter n += 10: n = \" + n); // prints 10\n",
    "    }\n",
    "\n",
    "    public static void main(String[] args) {\n",
    "        int n = 5;\n",
    "        System.out.println(\"Main method before changeInt(n): n = \" + n); // prints 5\n",
    "        changeInt(n);\n",
    "        System.out.println(\"Main method after changeInt(n): n = \" + n); // still prints 5\n",
    "    }\n",
    "}\n",
    "IntByValue.main(null);"
   ]
  },
  {
   "cell_type": "code",
   "execution_count": 7,
   "metadata": {},
   "outputs": [
    {
     "name": "stdout",
     "output_type": "stream",
     "text": [
      "Main method before changeInteger(n): n = 5 hash code = 5\n",
      "In changeInteger method\n",
      "\tBefore change: n = 5 hash code = 5\n",
      "\tAfter change: n = 15 hash code = 15\n",
      "Main method after changeInteger(n): n = 5 hash code = 5\n"
     ]
    }
   ],
   "source": [
    "//by value - wrapper class\n",
    "public class IntegerByValueOrReference {\n",
    "    \n",
    "    public static void changeInteger(Integer n) {\n",
    "        System.out.println(\"In changeInteger method\");\n",
    "        System.out.println(\"\\tBefore change: n = \" + \n",
    "                            n + // prints 5\n",
    "                            \" hash code = \" + \n",
    "                            n.hashCode()); \n",
    "\n",
    "        n += 10;  // behind the scenes, this is:  n = new Integer(n+10)\n",
    "        \n",
    "        System.out.println(\"\\tAfter change: n = \" + \n",
    "                            n + // prints 15\n",
    "                            \" hash code = \" + \n",
    "                            n.hashCode()); \n",
    "    }\n",
    "\n",
    "    public static void main(String[] args) {\n",
    "        Integer n = 5;\n",
    "        System.out.println(\"Main method before changeInteger(n): n = \" + \n",
    "                            n + // prints 5\n",
    "                            \" hash code = \" + \n",
    "                            n.hashCode()); \n",
    "\n",
    "        changeInteger(n);\n",
    "        \n",
    "        System.out.println(\"Main method after changeInteger(n): n = \" + \n",
    "                            n +  // now prints 15\n",
    "                            \" hash code = \" + \n",
    "                            n.hashCode());     \n",
    "    }\n",
    "}\n",
    "IntegerByValueOrReference.main(null);"
   ]
  },
  {
   "cell_type": "code",
   "execution_count": 8,
   "metadata": {},
   "outputs": [
    {
     "name": "stdout",
     "output_type": "stream",
     "text": [
      "Main method before changeAtomicInteger(n): n = 5 hash code = 334996012\n",
      "In changeAtomicInteger method\n",
      "\tBefore change: n = 5 hash code = 334996012\n",
      "\tAfter change: n = 15 hash code = 334996012\n",
      "Main method after changeAtomicInteger(n): n = 15 hash code = 334996012\n"
     ]
    }
   ],
   "source": [
    "import java.util.concurrent.atomic.AtomicInteger;\n",
    "\n",
    "public class PassByReference {\n",
    "    \n",
    "    public static void changeAtomicInteger(AtomicInteger n) {\n",
    "        System.out.println(\"In changeAtomicInteger method\");\n",
    "        System.out.println(\"\\tBefore change: n = \" + \n",
    "                            n + // prints 5\n",
    "                            \" hash code = \" + \n",
    "                            n.hashCode()); \n",
    "        n.set(n.get() + 10);  // at this point, we are clearly working with reference data type\n",
    "        System.out.println(\"\\tAfter change: n = \" + \n",
    "                            n + // prints 15\n",
    "                            \" hash code = \" + \n",
    "                            n.hashCode()); \n",
    "}\n",
    "\n",
    "    public static void main(String[] args) {\n",
    "        AtomicInteger n = new AtomicInteger(5); // unlike conventional wrapper class, this requires new\n",
    "        System.out.println(\"Main method before changeAtomicInteger(n): n = \" + n + // prints 5\n",
    "                            \" hash code = \" + \n",
    "                            n.hashCode()); \n",
    "        changeAtomicInteger(n);\n",
    "        System.out.println(\"Main method after changeAtomicInteger(n): n = \" + \n",
    "                            n +  // now prints 15\n",
    "                            \" hash code = \" + \n",
    "                            n.hashCode()); \n",
    "    }\n",
    "}\n",
    "PassByReference.main(null);"
   ]
  },
  {
   "cell_type": "code",
   "execution_count": 9,
   "metadata": {},
   "outputs": [
    {
     "name": "stdout",
     "output_type": "stream",
     "text": [
      "Before: 21 16\n",
      "After: 16 21\n",
      "\n",
      "Before: 16 21\n",
      "After: 16 21\n",
      "\n",
      "Before: 16 -1\n",
      "After: -1 16\n",
      "\n"
     ]
    }
   ],
   "source": [
    "public class IntByReference {\n",
    "    private int value;\n",
    "\n",
    "    public IntByReference(Integer value) {\n",
    "        this.value = value;\n",
    "    }\n",
    "\n",
    "    public String toString() {\n",
    "        return (String.format(\"%d\", this.value));\n",
    "    }\n",
    "\n",
    "    public void swapToLowHighOrder(IntByReference i) {\n",
    "        if (this.value > i.value) {\n",
    "            int tmp = this.value;\n",
    "            this.value = i.value;\n",
    "            i.value = tmp;\n",
    "        }\n",
    "    }\n",
    "\n",
    "    public static void swapper(int n0, int n1) {\n",
    "        IntByReference a = new IntByReference(n0);\n",
    "        IntByReference b = new IntByReference(n1);\n",
    "        System.out.println(\"Before: \" + a + \" \" + b);\n",
    "        a.swapToLowHighOrder(b);  // conditionally build swap method to change values of a, b\n",
    "        System.out.println(\"After: \" + a + \" \" + b);\n",
    "        System.out.println();\n",
    "    }\n",
    "\n",
    "    public static void main(String[] ags) {\n",
    "        IntByReference.swapper(21, 16);\n",
    "        IntByReference.swapper(16, 21);\n",
    "        IntByReference.swapper(16, -1);\n",
    "    }\n",
    "\n",
    "}\n",
    "IntByReference.main(null);"
   ]
  },
  {
   "attachments": {},
   "cell_type": "markdown",
   "metadata": {},
   "source": [
    "# Hacks\n",
    "Write a Jupyter notebook code example on the following primitive types with a code example (4 to 5 lines), preference would be using array and methods like substring and random as applicable: int, double, boolean, char."
   ]
  },
  {
   "cell_type": "code",
   "execution_count": 3,
   "metadata": {},
   "outputs": [
    {
     "name": "stdout",
     "output_type": "stream",
     "text": [
      "Product of numbers: 6\n"
     ]
    }
   ],
   "source": [
    " // int example\n",
    "import java.util.Random;\n",
    "\n",
    "public class IntEx {\n",
    "    public static void main(String[] args) {\n",
    "        // int example\n",
    "        int[] numbers = {1, 2, 3};\n",
    "        int product = numbers[0];\n",
    "        for (int i = 0; i < numbers.length; i++) {\n",
    "            product = product * numbers[i];\n",
    "        }\n",
    "        System.out.println(\"Product of numbers: \" + product);\n",
    "\n",
    "    }\n",
    "}\n",
    "IntEx.main(null);"
   ]
  },
  {
   "cell_type": "code",
   "execution_count": 4,
   "metadata": {},
   "outputs": [
    {
     "name": "stdout",
     "output_type": "stream",
     "text": [
      "The value of pi: 3.141592653589793\n"
     ]
    }
   ],
   "source": [
    " // double example\n",
    "import java.util.Random;\n",
    "\n",
    "public class DoubEx {\n",
    "    public static void main(String[] args) {\n",
    "    double pi = 3.141592653589793;\n",
    "    System.out.println(\"The value of pi: \" + pi);  \n",
    "    }\n",
    "}\n",
    "DoubEx.main(null);"
   ]
  },
  {
   "cell_type": "code",
   "execution_count": 11,
   "metadata": {},
   "outputs": [
    {
     "name": "stdout",
     "output_type": "stream",
     "text": [
      "Is the product even? false\n"
     ]
    }
   ],
   "source": [
    "// boolean example\n",
    "import java.util.Random;\n",
    "\n",
    "public class BoolEx {\n",
    "    public static void main(String[] args) {\n",
    "    int product = 11;\n",
    "    boolean isEven = (product % 2 == 0);\n",
    "    System.out.println(\"Is the product even? \" + isEven);\n",
    "    }\n",
    "}\n",
    "BoolEx.main(null);"
   ]
  },
  {
   "cell_type": "code",
   "execution_count": 16,
   "metadata": {},
   "outputs": [
    {
     "name": "stdout",
     "output_type": "stream",
     "text": [
      "The first letter of the word compsci is c\n"
     ]
    }
   ],
   "source": [
    "// char example\n",
    "import java.util.Random;\n",
    "\n",
    "public class CharEx {\n",
    "    public static void main(String[] args) {\n",
    "    String word = \"compsci\";\n",
    "    char firstLetter = word.charAt(0);\n",
    "    System.out.println(\"The first letter of the word \" + word + \" is \" + firstLetter);\n",
    "    }\n",
    "}\n",
    "CharEx.main(null);"
   ]
  },
  {
   "attachments": {},
   "cell_type": "markdown",
   "metadata": {},
   "source": [
    "### Wrapper Classes\n",
    "Now convert each of the examples to corresponding Wrapper classes, using arrays"
   ]
  },
  {
   "cell_type": "code",
   "execution_count": 19,
   "metadata": {},
   "outputs": [
    {
     "name": "stdout",
     "output_type": "stream",
     "text": [
      "Product of numbers: 6\n"
     ]
    }
   ],
   "source": [
    " // Integer example\n",
    " import java.util.Random;\n",
    "\n",
    "public class IntWrap {\n",
    "    public static void main(String[] args) {\n",
    "        Integer[] numbers = {1, 2, 3};\n",
    "        Integer product = numbers[0];\n",
    "        for (int i = 0; i < numbers.length; i++) {\n",
    "            product = product * numbers[i];\n",
    "        }\n",
    "        System.out.println(\"Product of numbers: \" + product);\n",
    "    }\n",
    " }\n",
    " IntWrap.main(null);"
   ]
  },
  {
   "cell_type": "code",
   "execution_count": null,
   "metadata": {},
   "outputs": [],
   "source": [
    " // Double example\n",
    " import java.util.Random;\n",
    "\n",
    " public class DoubEx {\n",
    "     public static void main(String[] args) {\n",
    "     Double pi = 3.141592653589793;\n",
    "     System.out.println(\"The value of pi: \" + pi); \n",
    "     }\n",
    " }\n",
    " DoubEx.main(null);"
   ]
  },
  {
   "cell_type": "code",
   "execution_count": null,
   "metadata": {},
   "outputs": [],
   "source": [
    "// Boolean example\n",
    "import java.util.Random;\n",
    "\n",
    "public class BoolEx {\n",
    "    public static void main(String[] args) {\n",
    "    int product = 11;\n",
    "    Boolean isEven = (sum % 2 == 0);\n",
    "    System.out.println(\"Is the sum even? \" + isEven);\n",
    "    }\n",
    "}\n",
    "BoolEx.main(null);"
   ]
  },
  {
   "cell_type": "code",
   "execution_count": null,
   "metadata": {},
   "outputs": [],
   "source": [
    "// Character example\n",
    "import java.util.Random;\n",
    "\n",
    "public class CharEx {\n",
    "    public static void main(String[] args) {\n",
    "    String word = \"hello\";\n",
    "    Character firstLetter = word.charAt(0);\n",
    "    System.out.println(\"The first letter of the word \" + word + \" is \" + firstLetter);\n",
    "    }\n",
    "}\n",
    "CharEx.main(null);"
   ]
  }
 ],
 "metadata": {
  "kernelspec": {
   "display_name": "Java",
   "language": "java",
   "name": "java"
  },
  "language_info": {
   "codemirror_mode": "java",
   "file_extension": ".jshell",
   "mimetype": "text/x-java-source",
   "name": "java",
   "pygments_lexer": "java",
   "version": "17.0.5+8-Ubuntu-2ubuntu122.04"
  },
  "orig_nbformat": 4
 },
 "nbformat": 4,
 "nbformat_minor": 2
}
