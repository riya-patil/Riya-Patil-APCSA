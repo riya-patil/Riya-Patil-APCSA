{
 "cells": [
  {
   "cell_type": "markdown",
   "metadata": {},
   "source": [
    "# Unit 4 HW - Iteration Caeser Cipher\n",
    "\n",
    "- toc: true\n",
    "- comments: true\n",
    "- categories: [lessonhw, learning]"
   ]
  },
  {
   "cell_type": "markdown",
   "metadata": {},
   "source": [
    "* An Iterator is an object that can be used to loop through collections, like ArrayList and HashSet. \n",
    "\n",
    "* It is called an \"iterator\" because \"iterating\" is the technical term for looping. To use an Iterator, you must import it from the java.util package.\n",
    "\n",
    "* for, while, ect\n",
    "\n",
    "* sequence of instructions or code being repeated until a specific end result is achieved\n",
    "\n",
    "* MacroMonkeys repo with caesar cipher shifts"
   ]
  },
  {
   "cell_type": "code",
   "execution_count": 1,
   "metadata": {
    "vscode": {
     "languageId": "java"
    }
   },
   "outputs": [
    {
     "name": "stdout",
     "output_type": "stream",
     "text": [
      "Nice job!\n",
      "code code code\n",
      "supercalifragilisticexpialidocious\n"
     ]
    }
   ],
   "source": [
    "public class CaesarCipher {\n",
    "\n",
    "    String[] letters = {\"a\", \"b\", \"c\", \"d\", \"e\", \"f\", \"g\", \"h\", \"i\", \"j\",  //creates a string list for lowercase letters\n",
    "    \"k\", \"l\", \"m\", \"n\", \"o\", \"p\", \"q\", \"r\", \"s\", \"t\", \"u\", \"v\", \"w\", \"x\", \"y\", \"z\"};\n",
    "    String[] capitalLetters = {\"A\", \"B\", \"C\", \"D\", \"E\", \"F\", \"G\", \"H\", \"I\", //uppercase\n",
    "    \"J\", \"K\", \"L\", \"M\", \"N\", \"O\", \"P\", \"Q\", \"R\", \"S\", \"T\", \"U\", \"V\", \"W\", \"X\", \"Y\", \"Z\"};\n",
    "    \n",
    "    static String message1 = \"Kfzb gly!\"; \n",
    "    static String message2 = \"zlab zlab zlab\";\n",
    "    static String message3 = \"prmbozxifcoxdfifpqfzbumfxifalzflrp\"; //sets 3 different messages\n",
    "\n",
    "    String letterIndividual = \"\";\n",
    "\n",
    "\n",
    "    public CaesarCipher(String msg) {\n",
    "        for (int i = 0; i < msg.length(); i++) {\n",
    "            letterIndividual = msg.substring(i, i+1);\n",
    "            //iteration through i++ and j++\n",
    "\n",
    "            if (letterIndividual.equals(\" \")) {\n",
    "                System.out.print(\" \"); \n",
    "            } //if statement \n",
    "\n",
    "            if (letterIndividual.equals(\"!\")) {\n",
    "                System.out.print(\"!\"); //! that equal\n",
    "            }\n",
    "\n",
    "            for (int j = 0; j < letters.length; j++) {\n",
    "                if (letterIndividual.equals(letters[j])) {\n",
    "                    System.out.print(letters[(j+3)%26]); \n",
    "                } //adds three and then uses modulus function\n",
    "\n",
    "                if (letterIndividual.equals(capitalLetters[j])) {\n",
    "                    System.out.print(capitalLetters[(j+3)%26]); //key shift\n",
    "                }\n",
    "            \n",
    "            }\n",
    "        }\n",
    "        System.out.println(\"\"); \n",
    "    }\n",
    "\n",
    "    public static void main(String[] args) { //prints the decoded messages\n",
    "        CaesarCipher decode = new CaesarCipher(message1); \n",
    "        CaesarCipher decode2 = new CaesarCipher(message2); \n",
    "        CaesarCipher decode3 = new CaesarCipher(message3); \n",
    "\n",
    "    }\n",
    "}\n",
    "CaesarCipher.main(null)\n"
   ]
  }
 ],
 "metadata": {
  "kernelspec": {
   "display_name": "Java",
   "language": "java",
   "name": "java"
  },
  "language_info": {
   "codemirror_mode": "java",
   "file_extension": ".jshell",
   "mimetype": "text/x-java-source",
   "name": "Java",
   "pygments_lexer": "java",
   "version": "11.0.16+8-post-Ubuntu-0ubuntu122.04"
  },
  "orig_nbformat": 4
 },
 "nbformat": 4,
 "nbformat_minor": 2
}
