{
 "cells": [
  {
   "cell_type": "markdown",
   "metadata": {},
   "source": [
    "# ArrayList\n",
    "Learning about ArrayLists, CB Unit 10\n",
    "\n",
    "- toc: true\n",
    "- comments: true\n",
    "- categories: [fastpages, learning]"
   ]
  },
  {
   "cell_type": "markdown",
   "metadata": {},
   "source": [
    "## ArrayList Definition\n",
    "An ArrayList is like an array that has more flexibility, so it can be resized and things can be added and removed after the array is created. No size limit, and it can have duplicate elements."
   ]
  },
  {
   "cell_type": "code",
   "execution_count": 94,
   "metadata": {},
   "outputs": [
    {
     "name": "stdout",
     "output_type": "stream",
     "text": [
      "[Riya, and, Vidhi, are, cool]\n"
     ]
    }
   ],
   "source": [
    "import java.util.ArrayList;\n",
    "\n",
    "  ArrayList<String> words = new ArrayList<String>();\n",
    "  words.add(\"Riya\"); \n",
    "  words.add(\"and\"); \n",
    "  words.add(\"Vidhi\"); \n",
    "  words.add(\"are\"); \n",
    "  words.add(\"cool\"); \n",
    "\n",
    "  System.out.println(words);\n",
    "  "
   ]
  },
  {
   "cell_type": "markdown",
   "metadata": {},
   "source": [
    "## Add and addAll\n",
    "Adding elements using add(). Can also be added at a certain index if specified. addAll() is used to add all the elements from one array to another."
   ]
  },
  {
   "cell_type": "code",
   "execution_count": 95,
   "metadata": {},
   "outputs": [
    {
     "name": "stdout",
     "output_type": "stream",
     "text": [
      "[Riya, and, Vidhi, are, very, cool, !]\n"
     ]
    }
   ],
   "source": [
    "words.add(\"!\"); //adds the ! to the end of the arraylist\n",
    "words.add(4, \"very\"); //adds the word very to the list at index 4\n",
    "System.out.println(words);"
   ]
  },
  {
   "cell_type": "code",
   "execution_count": 96,
   "metadata": {},
   "outputs": [
    {
     "name": "stdout",
     "output_type": "stream",
     "text": [
      "[Riya, and, Vidhi, are, very, cool, !, Riya, is, cooler, than, Vidhi]\n"
     ]
    }
   ],
   "source": [
    "ArrayList<String> morewords = new ArrayList<String>();\n",
    "morewords.add(\"Riya\");\n",
    "morewords.add(\"is\");\n",
    "morewords.add(\"cooler\");\n",
    "morewords.add(\"than\");\n",
    "morewords.add(\"Vidhi\"); //this is very true\n",
    "\n",
    "words.addAll(morewords); //adds the second list to the first one\n",
    "System.out.println(words);"
   ]
  },
  {
   "cell_type": "markdown",
   "metadata": {},
   "source": [
    "## Size\n",
    "This returns the size of the list by using size()."
   ]
  },
  {
   "cell_type": "code",
   "execution_count": 73,
   "metadata": {},
   "outputs": [
    {
     "data": {
      "text/plain": [
       "12"
      ]
     },
     "execution_count": 73,
     "metadata": {},
     "output_type": "execute_result"
    }
   ],
   "source": [
    "words.size(); //this is the new list words after using  addAll()"
   ]
  },
  {
   "cell_type": "markdown",
   "metadata": {},
   "source": [
    "## Clear\n",
    "The clear method uses clear() to remove all the existing elements in a list."
   ]
  },
  {
   "cell_type": "code",
   "execution_count": 74,
   "metadata": {},
   "outputs": [
    {
     "name": "stdout",
     "output_type": "stream",
     "text": [
      "[]\n"
     ]
    }
   ],
   "source": [
    "words.clear(); //clears all the elements in list \n",
    "System.out.println(words); //they're all gone, how sad"
   ]
  },
  {
   "cell_type": "markdown",
   "metadata": {},
   "source": [
    "## Remove (int index) and (element)\n",
    "This method remove(), removes an element from the index, it shifts the other elements and decreases index by the amount of elements removed. Can be used by removing the index number or the name of the element."
   ]
  },
  {
   "cell_type": "code",
   "execution_count": 86,
   "metadata": {},
   "outputs": [
    {
     "name": "stdout",
     "output_type": "stream",
     "text": [
      "[Riya, and, Vidhi, very, cool, !, Riya, is, cooler, than, Vidhi]\n"
     ]
    }
   ],
   "source": [
    "words.remove(3); //you can see that the word \"are\" has been removed\n",
    "System.out.println(words);"
   ]
  },
  {
   "cell_type": "code",
   "execution_count": 92,
   "metadata": {},
   "outputs": [
    {
     "name": "stdout",
     "output_type": "stream",
     "text": [
      "[Riya, and, Vidhi, are, very, cool, !, Riya, is, Vidhi]\n"
     ]
    }
   ],
   "source": [
    "words.remove(\"cooler\");\n",
    "words.remove(\"than\"); \n",
    "System.out.println(words); "
   ]
  },
  {
   "cell_type": "markdown",
   "metadata": {},
   "source": [
    "## Get\n",
    "The get() method returns elements at the specific index."
   ]
  },
  {
   "cell_type": "code",
   "execution_count": 93,
   "metadata": {},
   "outputs": [
    {
     "data": {
      "text/plain": [
       "cool"
      ]
     },
     "execution_count": 93,
     "metadata": {},
     "output_type": "execute_result"
    }
   ],
   "source": [
    "words.get(5);"
   ]
  },
  {
   "cell_type": "markdown",
   "metadata": {},
   "source": [
    "## Set\n",
    "The set() method replaces an element at an index with another element"
   ]
  },
  {
   "cell_type": "code",
   "execution_count": 97,
   "metadata": {},
   "outputs": [
    {
     "name": "stdout",
     "output_type": "stream",
     "text": [
      "[Riya, and, Vidhi, lol, very, cool, !, Riya, is, cooler, than, Vidhi]\n"
     ]
    }
   ],
   "source": [
    "words.set(3, new String(\"lol\"));\n",
    "System.out.println(words);"
   ]
  },
  {
   "cell_type": "markdown",
   "metadata": {},
   "source": [
    "## IndexOf\n",
    "The indexOf() method returns when the element occurs first or -1 if its not there."
   ]
  },
  {
   "cell_type": "code",
   "execution_count": 100,
   "metadata": {},
   "outputs": [
    {
     "data": {
      "text/plain": [
       "-1"
      ]
     },
     "execution_count": 100,
     "metadata": {},
     "output_type": "execute_result"
    }
   ],
   "source": [
    "words.indexOf(\"csa\");"
   ]
  },
  {
   "cell_type": "markdown",
   "metadata": {},
   "source": [
    "## lastIndexOf(element)\n",
    "This method returns the index of when the element comes up last, or -1 if its not in the list."
   ]
  },
  {
   "cell_type": "code",
   "execution_count": 101,
   "metadata": {},
   "outputs": [
    {
     "data": {
      "text/plain": [
       "7"
      ]
     },
     "execution_count": 101,
     "metadata": {},
     "output_type": "execute_result"
    }
   ],
   "source": [
    "words.lastIndexOf(\"Riya\");"
   ]
  },
  {
   "cell_type": "markdown",
   "metadata": {},
   "source": [
    "## equals(element)\n",
    "This compares equality of element with the ones in the list."
   ]
  },
  {
   "cell_type": "code",
   "execution_count": 103,
   "metadata": {},
   "outputs": [
    {
     "data": {
      "text/plain": [
       "false"
      ]
     },
     "execution_count": 103,
     "metadata": {},
     "output_type": "execute_result"
    }
   ],
   "source": [
    "words.equals(\"hello\");"
   ]
  },
  {
   "cell_type": "markdown",
   "metadata": {},
   "source": [
    "## hashCode()\n",
    "Returns the hashcode value of a list, a hashcode is an integer value that corresponds with an object."
   ]
  },
  {
   "cell_type": "code",
   "execution_count": 108,
   "metadata": {},
   "outputs": [
    {
     "data": {
      "text/plain": [
       "-1141836386"
      ]
     },
     "execution_count": 108,
     "metadata": {},
     "output_type": "execute_result"
    }
   ],
   "source": [
    "words.hashCode();"
   ]
  },
  {
   "cell_type": "markdown",
   "metadata": {},
   "source": [
    "## isEmpty\n",
    "This method checks if the list is empty or not, and returns true or false if it is empty or not respectively."
   ]
  },
  {
   "cell_type": "code",
   "execution_count": 109,
   "metadata": {},
   "outputs": [
    {
     "data": {
      "text/plain": [
       "false"
      ]
     },
     "execution_count": 109,
     "metadata": {},
     "output_type": "execute_result"
    }
   ],
   "source": [
    "words.isEmpty();"
   ]
  },
  {
   "cell_type": "code",
   "execution_count": 110,
   "metadata": {},
   "outputs": [
    {
     "data": {
      "text/plain": [
       "false"
      ]
     },
     "execution_count": 110,
     "metadata": {},
     "output_type": "execute_result"
    }
   ],
   "source": [
    "morewords.isEmpty();"
   ]
  },
  {
   "cell_type": "markdown",
   "metadata": {},
   "source": [
    "## contains(element)\n",
    "This checks if the list has a certain element, true if it does and false if it doesn't."
   ]
  },
  {
   "cell_type": "code",
   "execution_count": 113,
   "metadata": {},
   "outputs": [
    {
     "data": {
      "text/plain": [
       "true"
      ]
     },
     "execution_count": 113,
     "metadata": {},
     "output_type": "execute_result"
    }
   ],
   "source": [
    "words.contains(\"Vidhi\");"
   ]
  },
  {
   "cell_type": "code",
   "execution_count": 111,
   "metadata": {},
   "outputs": [
    {
     "data": {
      "text/plain": [
       "false"
      ]
     },
     "execution_count": 111,
     "metadata": {},
     "output_type": "execute_result"
    }
   ],
   "source": [
    "words.contains(\"hello\");"
   ]
  },
  {
   "cell_type": "markdown",
   "metadata": {},
   "source": [
    "## Sort\n",
    "This method sorts the elements of a list based on a comparator."
   ]
  },
  {
   "cell_type": "code",
   "execution_count": 117,
   "metadata": {},
   "outputs": [
    {
     "name": "stdout",
     "output_type": "stream",
     "text": [
      "List : [Riya, and, Vidhi, lol, very, cool, !, Riya, is, cooler, than, Vidhi]\n",
      "Sorted List : [!, Riya, Riya, Vidhi, Vidhi, and, cool, cooler, is, lol, than, very]\n"
     ]
    }
   ],
   "source": [
    "import java.util.Collections;\n",
    "\n",
    "System.out.println(\"List : \"+words);\n",
    "\n",
    "//will sort the string according to alphabetical order\n",
    "Collections.sort(words);\n",
    "System.out.println(\"Sorted List : \"+words);"
   ]
  }
 ],
 "metadata": {
  "kernelspec": {
   "display_name": "Java",
   "language": "java",
   "name": "java"
  },
  "language_info": {
   "name": "java"
  },
  "orig_nbformat": 4
 },
 "nbformat": 4,
 "nbformat_minor": 2
}
