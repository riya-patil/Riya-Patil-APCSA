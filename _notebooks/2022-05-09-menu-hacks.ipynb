{
 "cells": [
  {
   "cell_type": "markdown",
   "metadata": {},
   "source": [
    "# Menu Hacks\n",
    "- toc:true\n",
    "- badges: true\n",
    "- comments: true\n",
    "- categories: [fastpages, jupyter]"
   ]
  },
  {
   "cell_type": "markdown",
   "metadata": {},
   "source": [
    "> Defining a Class\n",
    "Classes are used to create objects and to define object data types and methods. Classes are defined when you have an object that you are going to program."
   ]
  },
  {
   "cell_type": "code",
   "execution_count": null,
   "metadata": {},
   "outputs": [],
   "source": [
    "public class Menu\n",
    "//definition of a class called Menu used for program"
   ]
  },
  {
   "cell_type": "markdown",
   "metadata": {},
   "source": [
    "> Calling a method\n",
    "An object is calling a method when the code is trying to get the object to complete an action"
   ]
  },
  {
   "cell_type": "code",
   "execution_count": null,
   "metadata": {},
   "outputs": [],
   "source": [
    "int choice = sc.nextInt();  // calling a  method from scanner\n",
    "//scans the next input of data as an integer"
   ]
  },
  {
   "cell_type": "markdown",
   "metadata": {},
   "source": [
    "> Mutating Data\n",
    "An object is mutating data when it takes the original input of data and mutates it, returning it as different data"
   ]
  },
  {
   "cell_type": "code",
   "execution_count": null,
   "metadata": {},
   "outputs": [],
   "source": [
    "input3 = new Scanner(System.in);\n",
    "            System.out.println(\"Enter a degree in Celsius as a double: \");\n",
    "            double celsius = input3.nextDouble();\n",
    "            double kelvin = (celsius + 273.0); //mutation is taking double input and using arithmetic to mutate it\n",
    "            System.out.println( celsius + \" degree Celsius is equal to \" + kelvin + \" in Kelvin\");\n",
    "            input3.close();"
   ]
  },
  {
   "cell_type": "markdown",
   "metadata": {},
   "source": [
    "> Console, GUI, Code.org Differences\n",
    "* Console: inputs and outputs seen as code, not visuals\n",
    "* GUI: Uses visuals and interactive as compared to console\n",
    "* Code.org: easy to understand learning platform, learned about extends, inheritance, classes, and methods"
   ]
  }
 ],
 "metadata": {
  "kernelspec": {
   "display_name": "Java",
   "language": "java",
   "name": "java"
  },
  "language_info": {
   "name": "java"
  },
  "orig_nbformat": 4
 },
 "nbformat": 4,
 "nbformat_minor": 2
}
