{
 "cells": [
  {
   "cell_type": "markdown",
   "metadata": {},
   "source": [
    "# Unit 1 HW - Grade Calculator"
   ]
  },
  {
   "cell_type": "code",
   "execution_count": 1,
   "metadata": {
    "vscode": {
     "languageId": "java"
    }
   },
   "outputs": [
    {
     "name": "stdout",
     "output_type": "stream",
     "text": [
      "Is the final in a seperate category? True to False\n",
      "Final in a seperate category is true\n",
      "What is your current grade rn?\n",
      "88.4\n",
      "What is % of grade that is final?\n",
      "20.0%\n",
      "What is your desired grade?\n",
      "90.0\n",
      "You need a 96.39999999999993 on your final\n"
     ]
    }
   ],
   "source": [
    "// java style to import library\n",
    "import java.util.Scanner;\n",
    "\n",
    "// class must alway have 1st letter as uppercase, CamelCase is Java Class convention\n",
    "public class ScanPrimitives {\n",
    "    public static void main(String[] args) {    \n",
    "        Scanner myObj = new Scanner(System.in);  // Create a Scanner object\n",
    "        System.out.println(\"Is the final in a seperate category? True to False\");\n",
    "\n",
    "        boolean tof = myObj.nextBoolean();  // Read user input\n",
    "        System.out.println(\"Final in a seperate category is \" + tof);  // Output user input\n",
    "\n",
    "        if (tof) {\n",
    "            System.out.println(\"What is your current grade rn?\");\n",
    "            double grade = myObj.nextDouble();\n",
    "            System.out.println(grade);\n",
    "\n",
    "            System.out.println(\"What is % of grade that is final?\");\n",
    "            double percent = myObj.nextDouble();\n",
    "            System.out.println(percent + \"%\");\n",
    "\n",
    "            System.out.println(\"What is your desired grade?\");\n",
    "            double desired = myObj.nextDouble();\n",
    "            System.out.println(desired);\n",
    "\n",
    "            double output = (desired - (grade * ((100-percent)/100)))/(percent/100);\n",
    "            System.out.println(\"You need a \" + output + \" on your final\");\n",
    "        }\n",
    "        else {\n",
    "            System.out.println(\"What is your current grade rn?\"); //input grade\n",
    "            double grade = myObj.nextDouble();\n",
    "            System.out.println(grade);\n",
    "\n",
    "            System.out.println(\"What is the % of grade that is test category?\");\n",
    "            double percent = myObj.nextDouble();\n",
    "            System.out.println(percent + \"%\");\n",
    "\n",
    "            System.out.println(\"What is current % in tests category?\");\n",
    "            double currentpercent = myObj.nextDouble();\n",
    "            System.out.println(currentpercent + \"%\");\n",
    "\n",
    "            System.out.println(\"What is the current amount of points in the test category?\");\n",
    "            int currentpts = myObj.nextInt();\n",
    "            System.out.println(currentpts);\n",
    "\n",
    "            System.out.println(\"How many pts is the final?\");\n",
    "            int pts = myObj.nextInt();\n",
    "            System.out.println(pts);\n",
    "\n",
    "            System.out.println(\"What is your desired grade?\"); //what grade do I want\n",
    "            double desired = myObj.nextDouble();\n",
    "            System.out.println(desired);\n",
    "\n",
    "            // double output = (desired - ((grade * currentpercent)*((100 - percent)  / 100)))/((currentpts + pts)/(percent / 100))- currentpts;\n",
    "            double output = ((desired - grade+currentpercent)*(currentpts+pts)-currentpts*currentpercent)/100;\n",
    "            System.out.println(\"You need \" + output + \" pts on your final\");\n",
    "        }\n",
    "    \n",
    "    \n",
    "}\n",
    "\n",
    "}\n",
    "ScanPrimitives.main(null); //asks for input"
   ]
  }
 ],
 "metadata": {
  "kernelspec": {
   "display_name": "Java",
   "language": "java",
   "name": "java"
  },
  "language_info": {
   "codemirror_mode": "java",
   "file_extension": ".jshell",
   "mimetype": "text/x-java-source",
   "name": "Java",
   "pygments_lexer": "java",
   "version": "11.0.16+8-post-Ubuntu-0ubuntu122.04"
  },
  "orig_nbformat": 4
 },
 "nbformat": 4,
 "nbformat_minor": 2
}
