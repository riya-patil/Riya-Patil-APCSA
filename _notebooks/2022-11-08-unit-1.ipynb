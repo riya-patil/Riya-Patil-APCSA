{
 "cells": [
  {
   "cell_type": "markdown",
   "metadata": {},
   "source": [
    "# Unit 1 HW - Grade Calculator\n",
    "\n",
    "- toc: true\n",
    "- comments: true\n",
    "- categories: [lessonhw, fastpages, jupyter]"
   ]
  },
  {
   "cell_type": "markdown",
   "metadata": {},
   "source": [
    "No presentation\n",
    " \n",
    "* We should use java because its widely used in industries\n",
    "* To print something, use System.out.print(); and inside the parenthesis put text in quotes (String)\n",
    "* To print with a new line, use System.out.println();\n",
    "* To comment your code, use // for single line comments and /**/ for multiple lines\n",
    "\n",
    "### Casting \n",
    "* Assigning a value of one primitive data type to another type; operators like int and doubles\n",
    "* Division - dividing two ints create one int\n",
    "* Truncating - fraction part of floating point value is truncated \n",
    "* Rounding - rounds to nearest int"
   ]
  },
  {
   "cell_type": "code",
   "execution_count": 2,
   "metadata": {
    "vscode": {
     "languageId": "java"
    }
   },
   "outputs": [
    {
     "name": "stdout",
     "output_type": "stream",
     "text": [
      "1\n",
      "1.6\n"
     ]
    }
   ],
   "source": [
    "public class Casting {\n",
    "    public static void main(String[] args) {\n",
    "        System.out.println(8/5); //this will result in single int without decimal\n",
    "\n",
    "        System.out.println(8.0/5); //can also be used with double\n",
    "    }\n",
    "}\n",
    "Casting.main(null)"
   ]
  },
  {
   "cell_type": "code",
   "execution_count": 1,
   "metadata": {
    "vscode": {
     "languageId": "java"
    }
   },
   "outputs": [
    {
     "name": "stdout",
     "output_type": "stream",
     "text": [
      "Riya\n",
      "Team Crimebusters\n"
     ]
    }
   ],
   "source": [
    "//Hack #1\n",
    "public class Printing {\n",
    "    public static void main(String[] args) {\n",
    " \n",
    "        System.out.println(\"Riya\"); //printing my name\n",
    "        System.out.println(\"Team Crimebusters\"); //printing my team name\n",
    "    }\n",
    "}\n",
    " \n",
    "Printing.main(null);"
   ]
  },
  {
   "cell_type": "code",
   "execution_count": 2,
   "metadata": {
    "vscode": {
     "languageId": "java"
    }
   },
   "outputs": [
    {
     "name": "stdout",
     "output_type": "stream",
     "text": [
      "Riya is cool: true\n"
     ]
    }
   ],
   "source": [
    "public class Biodata { //hack 2\n",
    " \n",
    "    public static void main(String[] args) {\n",
    "       \n",
    "        final boolean cool = true;\n",
    "        String name = \"Riya is cool: \";\n",
    " \n",
    "        System.out.println(name + cool);\n",
    " \n",
    "    }\n",
    "}\n",
    " \n",
    "Biodata.main(null);"
   ]
  },
  {
   "cell_type": "markdown",
   "metadata": {},
   "source": [
    "### HW "
   ]
  },
  {
   "cell_type": "code",
   "execution_count": 3,
   "metadata": {
    "vscode": {
     "languageId": "java"
    }
   },
   "outputs": [
    {
     "name": "stdout",
     "output_type": "stream",
     "text": [
      "Is the final in a seperate category? True to False\n",
      "Final in a seperate category is true\n",
      "What is your current grade rn?\n",
      "88.4\n",
      "What is % of grade that is final?\n",
      "20.0%\n",
      "What is your desired grade?\n",
      "90.0\n",
      "You need a 96.39999999999993 on your final\n"
     ]
    }
   ],
   "source": [
    "// java style to import library\n",
    "import java.util.Scanner;\n",
    "\n",
    "// class must alway have 1st letter as uppercase, CamelCase is Java Class convention\n",
    "public class ScanPrimitives {\n",
    "    public static void main(String[] args) {    \n",
    "        Scanner myObj = new Scanner(System.in);  // Create a Scanner object\n",
    "        System.out.println(\"Is the final in a seperate category? True to False\");\n",
    "\n",
    "        boolean tof = myObj.nextBoolean();  // Read user input\n",
    "        System.out.println(\"Final in a seperate category is \" + tof);  // Output user input\n",
    "\n",
    "        if (tof) {\n",
    "            System.out.println(\"What is your current grade rn?\");\n",
    "            double grade = myObj.nextDouble();\n",
    "            System.out.println(grade);\n",
    "\n",
    "            System.out.println(\"What is % of grade that is final?\");\n",
    "            double percent = myObj.nextDouble();\n",
    "            System.out.println(percent + \"%\");\n",
    "\n",
    "            System.out.println(\"What is your desired grade?\");\n",
    "            double desired = myObj.nextDouble();\n",
    "            System.out.println(desired);\n",
    "\n",
    "            double output = (desired - (grade * ((100-percent)/100)))/(percent/100);\n",
    "            System.out.println(\"You need a \" + output + \" on your final\");\n",
    "        }\n",
    "        else {\n",
    "            System.out.println(\"What is your current grade rn?\"); //input grade\n",
    "            double grade = myObj.nextDouble();\n",
    "            System.out.println(grade);\n",
    "\n",
    "            System.out.println(\"What is the % of grade that is test category?\");\n",
    "            double percent = myObj.nextDouble();\n",
    "            System.out.println(percent + \"%\");\n",
    "\n",
    "            System.out.println(\"What is current % in tests category?\");\n",
    "            double currentpercent = myObj.nextDouble();\n",
    "            System.out.println(currentpercent + \"%\");\n",
    "\n",
    "            System.out.println(\"What is the current amount of points in the test category?\");\n",
    "            int currentpts = myObj.nextInt();\n",
    "            System.out.println(currentpts);\n",
    "\n",
    "            System.out.println(\"How many pts is the final?\");\n",
    "            int pts = myObj.nextInt();\n",
    "            System.out.println(pts);\n",
    "\n",
    "            System.out.println(\"What is your desired grade?\"); //what grade do I want\n",
    "            double desired = myObj.nextDouble();\n",
    "            System.out.println(desired);\n",
    "\n",
    "            // double output = (desired - ((grade * currentpercent)*((100 - percent)  / 100)))/((currentpts + pts)/(percent / 100))- currentpts;\n",
    "            double output = ((desired - grade+currentpercent)*(currentpts+pts)-currentpts*currentpercent)/100;\n",
    "            System.out.println(\"You need \" + output + \" pts on your final\");\n",
    "        }\n",
    "    \n",
    "    \n",
    "}\n",
    "\n",
    "}\n",
    "ScanPrimitives.main(null); //asks for input"
   ]
  }
 ],
 "metadata": {
  "kernelspec": {
   "display_name": "Java",
   "language": "java",
   "name": "java"
  },
  "language_info": {
   "codemirror_mode": "java",
   "file_extension": ".jshell",
   "mimetype": "text/x-java-source",
   "name": "Java",
   "pygments_lexer": "java",
   "version": "17.0.5+8-Ubuntu-2ubuntu122.04"
  },
  "orig_nbformat": 4
 },
 "nbformat": 4,
 "nbformat_minor": 2
}
