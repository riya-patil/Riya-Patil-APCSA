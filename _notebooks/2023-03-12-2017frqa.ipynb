{
 "cells": [
  {
   "attachments": {},
   "cell_type": "markdown",
   "metadata": {},
   "source": [
    "# FRQ 2017 #3- Methods and Control Structures"
   ]
  },
  {
   "attachments": {},
   "cell_type": "markdown",
   "metadata": {},
   "source": [
    "(a) "
   ]
  },
  {
   "attachments": {},
   "cell_type": "markdown",
   "metadata": {},
   "source": [
    "This frq is trying to go over how to use specific methods and alter them in order to change a substring\n",
    "\n",
    "* the method replaceNthOccurrence is asked to be written to change the nth occurrence of a substring with a replacement string, str with repl\n",
    "\n"
   ]
  },
  {
   "attachments": {},
   "cell_type": "markdown",
   "metadata": {},
   "source": [
    "* Methods: \n",
    "\n",
    "A method in Java is a block of code that, when called, performs specific actions mentioned in it. You can insert values or parameters into methods, and they will only be executed when called. A method is similar to a function.\n",
    "\n",
    "\n",
    "* Control Structures:\n",
    "\n",
    "Control Structures can be considered as the building blocks of computer programs. A program is usually not limited to a linear sequence of instructions since during its process it may bifurcate, repeat code or bypass sections."
   ]
  },
  {
   "cell_type": "code",
   "execution_count": null,
   "metadata": {
    "vscode": {
     "languageId": "java"
    }
   },
   "outputs": [],
   "source": [
    "public void replaceNthOccurrence(String str, int n, String repl){\n",
    "    int i = findNthOccurrence(str, n);\n",
    "    if(i != -1)\n",
    "    {\n",
    "        String a = currentPhrase.substring(0, i); \n",
    "        //find the string from first index up till i\n",
    "\n",
    "        String b = currentPhrase.substring(i+str.length());\n",
    "        //everything after the str\n",
    "\n",
    "        currentPhrase = a + repl + b;\n",
    "\n",
    "    }\n",
    "}"
   ]
  },
  {
   "attachments": {},
   "cell_type": "markdown",
   "metadata": {},
   "source": [
    "Answer for (a)"
   ]
  },
  {
   "cell_type": "code",
   "execution_count": null,
   "metadata": {
    "vscode": {
     "languageId": "java"
    }
   },
   "outputs": [],
   "source": [
    "//Part (a)\n",
    "public void replaceNthOccurrence(String str, int n, String repl)\n",
    "{\n",
    "\n",
    "int loc = findNthOccurrence(str, n);\n",
    "\n",
    "if (loc != -1)\n",
    "{\n",
    "currentPhrase = currentPhrase.substring(0, loc) + repl + currentPhrase.substring(loc + str.length());\n",
    "}\n",
    "}"
   ]
  }
 ],
 "metadata": {
  "kernelspec": {
   "display_name": "Java",
   "language": "java",
   "name": "java"
  },
  "language_info": {
   "codemirror_mode": "java",
   "file_extension": ".jshell",
   "mimetype": "text/x-java-source",
   "name": "Java",
   "pygments_lexer": "java",
   "version": "17.0.5+8-Ubuntu-2ubuntu122.04"
  },
  "orig_nbformat": 4
 },
 "nbformat": 4,
 "nbformat_minor": 2
}
